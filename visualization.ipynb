{
 "cells": [
  {
   "cell_type": "markdown",
   "metadata": {},
   "source": [
    "# Setup"
   ]
  },
  {
   "cell_type": "code",
   "execution_count": 1,
   "metadata": {},
   "outputs": [
    {
     "data": {
      "text/html": [
       "\n",
       "\t\t\t<script type=\"text/javascript\">\n",
       "\t\t\t<!--\n",
       "\t\t\t\t\n",
       "\t\t\t{\n",
       "\t\t\t\tvar element = document.getElementById('NetworKit_script');\n",
       "\t\t\t\tif (element) {\n",
       "\t\t\t\t\telement.parentNode.removeChild(element);\n",
       "\t\t\t\t}\n",
       "\t\t\t\telement = document.createElement('script');\n",
       "\t\t\t\telement.type = 'text/javascript';\n",
       "\t\t\t\telement.innerHTML = 'function NetworKit_pageEmbed(id) { var i, j; var elements; elements = document.getElementById(id).getElementsByClassName(\"Plot\"); for (i=0; i<elements.length; i++) { elements[i].id = id + \"_Plot_\" + i; var data = elements[i].getAttribute(\"data-image\").split(\"|\"); elements[i].removeAttribute(\"data-image\"); var content = \"<div class=\\\\\"Image\\\\\" id=\\\\\"\" + elements[i].id + \"_Image\\\\\" />\"; elements[i].innerHTML = content; elements[i].setAttribute(\"data-image-index\", 0); elements[i].setAttribute(\"data-image-length\", data.length); for (j=0; j<data.length; j++) { elements[i].setAttribute(\"data-image-\" + j, data[j]); } NetworKit_plotUpdate(elements[i]); elements[i].onclick = function (e) { NetworKit_overlayShow((e.target) ? e.target : e.srcElement); } } elements = document.getElementById(id).getElementsByClassName(\"HeatCell\"); for (i=0; i<elements.length; i++) { var data = parseFloat(elements[i].getAttribute(\"data-heat\")); var color = \"#00FF00\"; if (data <= 1 && data > 0) { color = \"hsla(0, 100%, 75%, \" + (data) + \")\"; } else if (data <= 0 && data >= -1) { color = \"hsla(240, 100%, 75%, \" + (-data) + \")\"; } elements[i].style.backgroundColor = color; } elements = document.getElementById(id).getElementsByClassName(\"Details\"); for (i=0; i<elements.length; i++) { elements[i].setAttribute(\"data-title\", \"-\"); NetworKit_toggleDetails(elements[i]); elements[i].onclick = function (e) { NetworKit_toggleDetails((e.target) ? e.target : e.srcElement); } } elements = document.getElementById(id).getElementsByClassName(\"MathValue\"); for (i=elements.length-1; i>=0; i--) { value = elements[i].innerHTML.trim(); if (value === \"nan\") { elements[i].parentNode.innerHTML = \"\" } } elements = document.getElementById(id).getElementsByClassName(\"SubCategory\"); for (i=elements.length-1; i>=0; i--) { value = elements[i].innerHTML.trim(); if (value === \"\") { elements[i].parentNode.removeChild(elements[i]) } } elements = document.getElementById(id).getElementsByClassName(\"Category\"); for (i=elements.length-1; i>=0; i--) { value = elements[i].innerHTML.trim(); if (value === \"\") { elements[i].parentNode.removeChild(elements[i]) } } var isFirefox = false; try { isFirefox = typeof InstallTrigger !== \"undefined\"; } catch (e) {} if (!isFirefox) { alert(\"Currently the function\\'s output is only fully supported by Firefox.\"); } } function NetworKit_plotUpdate(source) { var index = source.getAttribute(\"data-image-index\"); var data = source.getAttribute(\"data-image-\" + index); var image = document.getElementById(source.id + \"_Image\"); image.style.backgroundImage = \"url(\" + data + \")\"; } function NetworKit_showElement(id, show) { var element = document.getElementById(id); element.style.display = (show) ? \"block\" : \"none\"; } function NetworKit_overlayShow(source) { NetworKit_overlayUpdate(source); NetworKit_showElement(\"NetworKit_Overlay\", true); } function NetworKit_overlayUpdate(source) { document.getElementById(\"NetworKit_Overlay_Title\").innerHTML = source.title; var index = source.getAttribute(\"data-image-index\"); var data = source.getAttribute(\"data-image-\" + index); var image = document.getElementById(\"NetworKit_Overlay_Image\"); image.setAttribute(\"data-id\", source.id); image.style.backgroundImage = \"url(\" + data + \")\"; var link = document.getElementById(\"NetworKit_Overlay_Toolbar_Bottom_Save\"); link.href = data; link.download = source.title + \".svg\"; } function NetworKit_overlayImageShift(delta) { var image = document.getElementById(\"NetworKit_Overlay_Image\"); var source = document.getElementById(image.getAttribute(\"data-id\")); var index = parseInt(source.getAttribute(\"data-image-index\")); var length = parseInt(source.getAttribute(\"data-image-length\")); var index = (index+delta) % length; if (index < 0) { index = length + index; } source.setAttribute(\"data-image-index\", index); NetworKit_overlayUpdate(source); } function NetworKit_toggleDetails(source) { var childs = source.children; var show = false; if (source.getAttribute(\"data-title\") == \"-\") { source.setAttribute(\"data-title\", \"+\"); show = false; } else { source.setAttribute(\"data-title\", \"-\"); show = true; } for (i=0; i<childs.length; i++) { if (show) { childs[i].style.display = \"block\"; } else { childs[i].style.display = \"none\"; } } }';\n",
       "\t\t\t\telement.setAttribute('id', 'NetworKit_script');\n",
       "\t\t\t\tdocument.head.appendChild(element);\n",
       "\t\t\t}\n",
       "\t\t\n",
       "\t\t\t\t\n",
       "\t\t\t{\n",
       "\t\t\t\tvar element = document.getElementById('NetworKit_style');\n",
       "\t\t\t\tif (element) {\n",
       "\t\t\t\t\telement.parentNode.removeChild(element);\n",
       "\t\t\t\t}\n",
       "\t\t\t\telement = document.createElement('style');\n",
       "\t\t\t\telement.type = 'text/css';\n",
       "\t\t\t\telement.innerHTML = '.NetworKit_Page { font-family: Arial, Helvetica, sans-serif; font-size: 14px; } .NetworKit_Page .Value:before { font-family: Arial, Helvetica, sans-serif; font-size: 1.05em; content: attr(data-title) \":\"; margin-left: -2.5em; padding-right: 0.5em; } .NetworKit_Page .Details .Value:before { display: block; } .NetworKit_Page .Value { font-family: monospace; white-space: pre; padding-left: 2.5em; white-space: -moz-pre-wrap !important; white-space: -pre-wrap; white-space: -o-pre-wrap; white-space: pre-wrap; word-wrap: break-word; tab-size: 4; -moz-tab-size: 4; } .NetworKit_Page .Category { clear: both; padding-left: 1em; margin-bottom: 1.5em; } .NetworKit_Page .Category:before { content: attr(data-title); font-size: 1.75em; display: block; margin-left: -0.8em; margin-bottom: 0.5em; } .NetworKit_Page .SubCategory { margin-bottom: 1.5em; padding-left: 1em; } .NetworKit_Page .SubCategory:before { font-size: 1.6em; display: block; margin-left: -0.8em; margin-bottom: 0.5em; } .NetworKit_Page .SubCategory[data-title]:before { content: attr(data-title); } .NetworKit_Page .Block { display: block; } .NetworKit_Page .Block:after { content: \".\"; visibility: hidden; display: block; height: 0; clear: both; } .NetworKit_Page .Block .Thumbnail_Overview, .NetworKit_Page .Block .Thumbnail_ScatterPlot { width: 260px; float: left; } .NetworKit_Page .Block .Thumbnail_Overview img, .NetworKit_Page .Block .Thumbnail_ScatterPlot img { width: 260px; } .NetworKit_Page .Block .Thumbnail_Overview:before, .NetworKit_Page .Block .Thumbnail_ScatterPlot:before { display: block; text-align: center; font-weight: bold; } .NetworKit_Page .Block .Thumbnail_Overview:before { content: attr(data-title); } .NetworKit_Page .HeatCell { font-family: \"Courier New\", Courier, monospace; cursor: pointer; } .NetworKit_Page .HeatCell, .NetworKit_Page .HeatCellName { display: inline; padding: 0.1em; margin-right: 2px; background-color: #FFFFFF } .NetworKit_Page .HeatCellName { margin-left: 0.25em; } .NetworKit_Page .HeatCell:before { content: attr(data-heat); display: inline-block; color: #000000; width: 4em; text-align: center; } .NetworKit_Page .Measure { clear: both; } .NetworKit_Page .Measure .Details { cursor: pointer; } .NetworKit_Page .Measure .Details:before { content: \"[\" attr(data-title) \"]\"; display: block; } .NetworKit_Page .Measure .Details .Value { border-left: 1px dotted black; margin-left: 0.4em; padding-left: 3.5em; pointer-events: none; } .NetworKit_Page .Measure .Details .Spacer:before { content: \".\"; opacity: 0.0; pointer-events: none; } .NetworKit_Page .Measure .Plot { width: 440px; height: 440px; cursor: pointer; float: left; margin-left: -0.9em; margin-right: 20px; } .NetworKit_Page .Measure .Plot .Image { background-repeat: no-repeat; background-position: center center; background-size: contain; height: 100%; pointer-events: none; } .NetworKit_Page .Measure .Stat { width: 500px; float: left; } .NetworKit_Page .Measure .Stat .Group { padding-left: 1.25em; margin-bottom: 0.75em; } .NetworKit_Page .Measure .Stat .Group .Title { font-size: 1.1em; display: block; margin-bottom: 0.3em; margin-left: -0.75em; border-right-style: dotted; border-right-width: 1px; border-bottom-style: dotted; border-bottom-width: 1px; background-color: #D0D0D0; padding-left: 0.2em; } .NetworKit_Page .Measure .Stat .Group .List { -webkit-column-count: 3; -moz-column-count: 3; column-count: 3; } .NetworKit_Page .Measure .Stat .Group .List .Entry { position: relative; line-height: 1.75em; } .NetworKit_Page .Measure .Stat .Group .List .Entry[data-tooltip]:before { position: absolute; left: 0; top: -40px; background-color: #808080; color: #ffffff; height: 30px; line-height: 30px; border-radius: 5px; padding: 0 15px; content: attr(data-tooltip); white-space: nowrap; display: none; } .NetworKit_Page .Measure .Stat .Group .List .Entry[data-tooltip]:after { position: absolute; left: 15px; top: -10px; border-top: 7px solid #808080; border-left: 7px solid transparent; border-right: 7px solid transparent; content: \"\"; display: none; } .NetworKit_Page .Measure .Stat .Group .List .Entry[data-tooltip]:hover:after, .NetworKit_Page .Measure .Stat .Group .List .Entry[data-tooltip]:hover:before { display: block; } .NetworKit_Page .Measure .Stat .Group .List .Entry .MathValue { font-family: \"Courier New\", Courier, monospace; } .NetworKit_Page .Measure:after { content: \".\"; visibility: hidden; display: block; height: 0; clear: both; } .NetworKit_Page .PartitionPie { clear: both; } .NetworKit_Page .PartitionPie img { width: 600px; } #NetworKit_Overlay { left: 0px; top: 0px; display: none; position: absolute; width: 100%; height: 100%; background-color: rgba(0,0,0,0.6); z-index: 1000; } #NetworKit_Overlay_Title { position: absolute; color: white; transform: rotate(-90deg); width: 32em; height: 32em; padding-right: 0.5em; padding-top: 0.5em; text-align: right; font-size: 40px; } #NetworKit_Overlay .button { background: white; cursor: pointer; } #NetworKit_Overlay .button:before { size: 13px; display: inline-block; text-align: center; margin-top: 0.5em; margin-bottom: 0.5em; width: 1.5em; height: 1.5em; } #NetworKit_Overlay .icon-close:before { content: \"X\"; } #NetworKit_Overlay .icon-previous:before { content: \"P\"; } #NetworKit_Overlay .icon-next:before { content: \"N\"; } #NetworKit_Overlay .icon-save:before { content: \"S\"; } #NetworKit_Overlay_Toolbar_Top, #NetworKit_Overlay_Toolbar_Bottom { position: absolute; width: 40px; right: 13px; text-align: right; z-index: 1100; } #NetworKit_Overlay_Toolbar_Top { top: 0.5em; } #NetworKit_Overlay_Toolbar_Bottom { Bottom: 0.5em; } #NetworKit_Overlay_ImageContainer { position: absolute; top: 5%; left: 5%; height: 90%; width: 90%; background-repeat: no-repeat; background-position: center center; background-size: contain; } #NetworKit_Overlay_Image { height: 100%; width: 100%; background-repeat: no-repeat; background-position: center center; background-size: contain; }';\n",
       "\t\t\t\telement.setAttribute('id', 'NetworKit_style');\n",
       "\t\t\t\tdocument.head.appendChild(element);\n",
       "\t\t\t}\n",
       "\t\t\n",
       "\t\t\t\t\n",
       "\t\t\t{\n",
       "\t\t\t\tvar element = document.getElementById('NetworKit_Overlay');\n",
       "\t\t\t\tif (element) {\n",
       "\t\t\t\t\telement.parentNode.removeChild(element);\n",
       "\t\t\t\t}\n",
       "\t\t\t\telement = document.createElement('div');\n",
       "\t\t\t\telement.innerHTML = '<div id=\"NetworKit_Overlay_Toolbar_Top\"><div class=\"button icon-close\" id=\"NetworKit_Overlay_Close\" /></div><div id=\"NetworKit_Overlay_Title\" /> <div id=\"NetworKit_Overlay_ImageContainer\"> <div id=\"NetworKit_Overlay_Image\" /> </div> <div id=\"NetworKit_Overlay_Toolbar_Bottom\"> <div class=\"button icon-previous\" onclick=\"NetworKit_overlayImageShift(-1)\" /> <div class=\"button icon-next\" onclick=\"NetworKit_overlayImageShift(1)\" /> <a id=\"NetworKit_Overlay_Toolbar_Bottom_Save\"><div class=\"button icon-save\" /></a> </div>';\n",
       "\t\t\t\telement.setAttribute('id', 'NetworKit_Overlay');\n",
       "\t\t\t\tdocument.body.appendChild(element);\n",
       "\t\t\t\tdocument.getElementById('NetworKit_Overlay_Close').onclick = function (e) {\n",
       "\t\t\t\t\tdocument.getElementById('NetworKit_Overlay').style.display = 'none';\n",
       "\t\t\t\t}\n",
       "\t\t\t}\n",
       "\t\t\n",
       "\t\t\t-->\n",
       "\t\t\t</script>\n",
       "\t\t"
      ]
     },
     "metadata": {},
     "output_type": "display_data"
    }
   ],
   "source": [
    "import pandas as pd\n",
    "import numpy as np\n",
    "import random\n",
    "import networkx as nx\n",
    "import networkit as nk\n",
    "import matplotlib.pyplot as plt\n",
    "import collections\n",
    "import graph_tool.all as gt\n",
    "import scipy.sparse as sp\n",
    "import scipy.stats as ss\n",
    "import scipy.sparse.csgraph\n",
    "from scipy.sparse.linalg import eigs\n",
    "from math import factorial, comb"
   ]
  },
  {
   "cell_type": "markdown",
   "metadata": {
    "jp-MarkdownHeadingCollapsed": true,
    "tags": []
   },
   "source": [
    "## Dataset aggregation (only needs to be run once)"
   ]
  },
  {
   "cell_type": "code",
   "execution_count": 2,
   "metadata": {},
   "outputs": [],
   "source": [
    "# load original dataset\n",
    "\n",
    "DATASET_PATH = 'rabobank_data.csv'\n",
    "graph_df = pd.read_csv(DATASET_PATH, sep=';')"
   ]
  },
  {
   "cell_type": "code",
   "execution_count": 3,
   "metadata": {},
   "outputs": [],
   "source": [
    "# aggregate dataset, removing parallel edges as a result\n",
    "\n",
    "graph_df = graph_df.groupby(['start_id', 'end_id']).agg({'total':'sum', 'count':'sum', 'year_from':'min', 'year_to':'max'}).reset_index()"
   ]
  },
  {
   "cell_type": "code",
   "execution_count": 62,
   "metadata": {},
   "outputs": [],
   "source": [
    "# remove temporal information and save as new csv\n",
    "\n",
    "graph_df = graph_df.drop(['year_from', 'year_to'], axis=1)\n",
    "graph_df.to_csv('rabobank_data_agg.csv', index=False)"
   ]
  },
  {
   "cell_type": "markdown",
   "metadata": {},
   "source": [
    "## Graph Loading"
   ]
  },
  {
   "cell_type": "code",
   "execution_count": 2,
   "metadata": {},
   "outputs": [],
   "source": [
    "DATASET_PATH = 'rabobank_data_agg.csv'\n",
    "graph_df = pd.read_csv(DATASET_PATH)"
   ]
  },
  {
   "cell_type": "code",
   "execution_count": 3,
   "metadata": {},
   "outputs": [
    {
     "data": {
      "text/html": [
       "<div>\n",
       "<style scoped>\n",
       "    .dataframe tbody tr th:only-of-type {\n",
       "        vertical-align: middle;\n",
       "    }\n",
       "\n",
       "    .dataframe tbody tr th {\n",
       "        vertical-align: top;\n",
       "    }\n",
       "\n",
       "    .dataframe thead th {\n",
       "        text-align: right;\n",
       "    }\n",
       "</style>\n",
       "<table border=\"1\" class=\"dataframe\">\n",
       "  <thead>\n",
       "    <tr style=\"text-align: right;\">\n",
       "      <th></th>\n",
       "      <th>start_id</th>\n",
       "      <th>end_id</th>\n",
       "      <th>total</th>\n",
       "      <th>count</th>\n",
       "    </tr>\n",
       "  </thead>\n",
       "  <tbody>\n",
       "    <tr>\n",
       "      <th>0</th>\n",
       "      <td>000000188099d7bd</td>\n",
       "      <td>3efddc7686388b81</td>\n",
       "      <td>3589</td>\n",
       "      <td>3</td>\n",
       "    </tr>\n",
       "    <tr>\n",
       "      <th>1</th>\n",
       "      <td>000000188099d7bd</td>\n",
       "      <td>6de37f691c1e32ad</td>\n",
       "      <td>392</td>\n",
       "      <td>5</td>\n",
       "    </tr>\n",
       "    <tr>\n",
       "      <th>2</th>\n",
       "      <td>000000188099d7bd</td>\n",
       "      <td>6f4500ea516c88aa</td>\n",
       "      <td>9827</td>\n",
       "      <td>10</td>\n",
       "    </tr>\n",
       "    <tr>\n",
       "      <th>3</th>\n",
       "      <td>000000188099d7bd</td>\n",
       "      <td>73d296467d6574f1</td>\n",
       "      <td>16476</td>\n",
       "      <td>38</td>\n",
       "    </tr>\n",
       "    <tr>\n",
       "      <th>4</th>\n",
       "      <td>000000188099d7bd</td>\n",
       "      <td>87ab48d52a8c910a</td>\n",
       "      <td>9840</td>\n",
       "      <td>25</td>\n",
       "    </tr>\n",
       "    <tr>\n",
       "      <th>...</th>\n",
       "      <td>...</td>\n",
       "      <td>...</td>\n",
       "      <td>...</td>\n",
       "      <td>...</td>\n",
       "    </tr>\n",
       "    <tr>\n",
       "      <th>3823162</th>\n",
       "      <td>ffffc4248156da34</td>\n",
       "      <td>75d277cc026cf633</td>\n",
       "      <td>70</td>\n",
       "      <td>17</td>\n",
       "    </tr>\n",
       "    <tr>\n",
       "      <th>3823163</th>\n",
       "      <td>ffffc5a2829ba195</td>\n",
       "      <td>77eddfa76b8f71d5</td>\n",
       "      <td>10</td>\n",
       "      <td>1</td>\n",
       "    </tr>\n",
       "    <tr>\n",
       "      <th>3823164</th>\n",
       "      <td>ffffcd331ca54184</td>\n",
       "      <td>15d799a263aab3b2</td>\n",
       "      <td>19026</td>\n",
       "      <td>14</td>\n",
       "    </tr>\n",
       "    <tr>\n",
       "      <th>3823165</th>\n",
       "      <td>ffffd41fed23ebdd</td>\n",
       "      <td>ea594f85d91467ea</td>\n",
       "      <td>60</td>\n",
       "      <td>1</td>\n",
       "    </tr>\n",
       "    <tr>\n",
       "      <th>3823166</th>\n",
       "      <td>fffff219d42f74ce</td>\n",
       "      <td>d44ee82e9ecdeea9</td>\n",
       "      <td>14671</td>\n",
       "      <td>15</td>\n",
       "    </tr>\n",
       "  </tbody>\n",
       "</table>\n",
       "<p>3823167 rows × 4 columns</p>\n",
       "</div>"
      ],
      "text/plain": [
       "                 start_id            end_id  total  count\n",
       "0        000000188099d7bd  3efddc7686388b81   3589      3\n",
       "1        000000188099d7bd  6de37f691c1e32ad    392      5\n",
       "2        000000188099d7bd  6f4500ea516c88aa   9827     10\n",
       "3        000000188099d7bd  73d296467d6574f1  16476     38\n",
       "4        000000188099d7bd  87ab48d52a8c910a   9840     25\n",
       "...                   ...               ...    ...    ...\n",
       "3823162  ffffc4248156da34  75d277cc026cf633     70     17\n",
       "3823163  ffffc5a2829ba195  77eddfa76b8f71d5     10      1\n",
       "3823164  ffffcd331ca54184  15d799a263aab3b2  19026     14\n",
       "3823165  ffffd41fed23ebdd  ea594f85d91467ea     60      1\n",
       "3823166  fffff219d42f74ce  d44ee82e9ecdeea9  14671     15\n",
       "\n",
       "[3823167 rows x 4 columns]"
      ]
     },
     "execution_count": 3,
     "metadata": {},
     "output_type": "execute_result"
    }
   ],
   "source": [
    "graph_df"
   ]
  },
  {
   "cell_type": "markdown",
   "metadata": {
    "tags": []
   },
   "source": [
    "### NetworKit"
   ]
  },
  {
   "cell_type": "code",
   "execution_count": 73,
   "metadata": {},
   "outputs": [],
   "source": [
    "def get_graph_nk():\n",
    "    '''Loads a .gt format file to a networkit graph, returns the largest weakly connected component of the graph'''\n",
    "    g_cc = nk.readGraph('g_cc.gt', nk.Format.GraphToolBinary)\n",
    "    cc_nodes = max(nk.components.WeaklyConnectedComponents(g_cc).run().getComponents(), key=len)\n",
    "    to_remove = list(set([n for n in g_cc.iterNodes()]) - set(cc_nodes))\n",
    "    for node in to_remove:\n",
    "        g_cc.removeNode(node)\n",
    "    return g_cc"
   ]
  },
  {
   "cell_type": "code",
   "execution_count": 3,
   "metadata": {},
   "outputs": [],
   "source": [
    "def get_graph_nk_rewire():\n",
    "    '''Loads a .gt format file corresponding to a rewired graph'''\n",
    "    g_cc = nk.readGraph('g_cc_rewire.gt', nk.Format.GraphToolBinary)\n",
    "    return g_cc"
   ]
  },
  {
   "cell_type": "markdown",
   "metadata": {
    "tags": []
   },
   "source": [
    "### NetworkX"
   ]
  },
  {
   "cell_type": "code",
   "execution_count": 3,
   "metadata": {},
   "outputs": [],
   "source": [
    "# Create DiGraph using graph dataframe, delete dataframe afterwards for memory\n",
    "\n",
    "G = nx.from_pandas_edgelist(graph_df,\n",
    "                            source='start_id',\n",
    "                            target='end_id',\n",
    "                            edge_attr=['count', 'total'],\n",
    "                            create_using=nx.DiGraph())\n",
    "del graph_df"
   ]
  },
  {
   "cell_type": "code",
   "execution_count": 4,
   "metadata": {},
   "outputs": [],
   "source": [
    "# Retrieve largest weakly connected component of G\n",
    "\n",
    "largest_cc = max(nx.weakly_connected_components(G), key=len)\n",
    "G_cc = G.subgraph(largest_cc).copy()\n",
    "del G\n",
    "del largest_cc"
   ]
  },
  {
   "cell_type": "markdown",
   "metadata": {},
   "source": [
    "### Graph-Tool"
   ]
  },
  {
   "cell_type": "code",
   "execution_count": 4,
   "metadata": {},
   "outputs": [],
   "source": [
    "def get_graph():\n",
    "    '''Load graph dataset, extracting largest weakly connected component'''\n",
    "    options = {\n",
    "        'delimiter': ',',\n",
    "        'quotechar': '\"',\n",
    "    }\n",
    "    g = gt.load_graph_from_csv('rabobank_data_agg.csv', csv_options=options, directed=True, ecols=(0,1))\n",
    "    g_cc = gt.extract_largest_component(g, directed=False)\n",
    "    return g_cc"
   ]
  },
  {
   "cell_type": "code",
   "execution_count": 5,
   "metadata": {},
   "outputs": [],
   "source": [
    "# save g_cc to .gt format\n",
    "\n",
    "g_cc = get_graph()\n",
    "g_cc.save('g_cc.gt', fmt='gt')"
   ]
  },
  {
   "cell_type": "markdown",
   "metadata": {},
   "source": [
    "# Analysis"
   ]
  },
  {
   "cell_type": "markdown",
   "metadata": {
    "jp-MarkdownHeadingCollapsed": true,
    "tags": []
   },
   "source": [
    "## Assortativity and Clustering"
   ]
  },
  {
   "cell_type": "code",
   "execution_count": 12,
   "metadata": {},
   "outputs": [
    {
     "data": {
      "text/plain": [
       "-0.08270930612732405"
      ]
     },
     "execution_count": 12,
     "metadata": {},
     "output_type": "execute_result"
    }
   ],
   "source": [
    "nx.degree_assortativity_coefficient(G_cc)"
   ]
  },
  {
   "cell_type": "code",
   "execution_count": 13,
   "metadata": {},
   "outputs": [
    {
     "data": {
      "text/plain": [
       "0.016559620451334172"
      ]
     },
     "execution_count": 13,
     "metadata": {},
     "output_type": "execute_result"
    }
   ],
   "source": [
    "nx.average_clustering(G_cc)"
   ]
  },
  {
   "cell_type": "code",
   "execution_count": 14,
   "metadata": {},
   "outputs": [
    {
     "data": {
      "text/plain": [
       "0.019922713905292773"
      ]
     },
     "execution_count": 14,
     "metadata": {},
     "output_type": "execute_result"
    }
   ],
   "source": [
    "nx.average_clustering(G_cc.to_undirected())"
   ]
  },
  {
   "cell_type": "code",
   "execution_count": 15,
   "metadata": {},
   "outputs": [
    {
     "data": {
      "text/plain": [
       "0.0012160172795731175"
      ]
     },
     "execution_count": 15,
     "metadata": {},
     "output_type": "execute_result"
    }
   ],
   "source": [
    "nx.transitivity(G_cc)"
   ]
  },
  {
   "cell_type": "code",
   "execution_count": 16,
   "metadata": {},
   "outputs": [
    {
     "data": {
      "text/plain": [
       "0.0010559823104946378"
      ]
     },
     "execution_count": 16,
     "metadata": {},
     "output_type": "execute_result"
    }
   ],
   "source": [
    "nx.transitivity(G_cc.to_undirected())"
   ]
  },
  {
   "cell_type": "markdown",
   "metadata": {
    "jp-MarkdownHeadingCollapsed": true,
    "tags": []
   },
   "source": [
    "## in-out degree plot"
   ]
  },
  {
   "cell_type": "code",
   "execution_count": 19,
   "metadata": {},
   "outputs": [],
   "source": [
    "in_degrees = np.array([G_cc.in_degree(node) for node in G_cc.nodes])\n",
    "out_degrees = np.array([G_cc.out_degree(node) for node in G_cc.nodes])"
   ]
  },
  {
   "cell_type": "code",
   "execution_count": 20,
   "metadata": {},
   "outputs": [
    {
     "data": {
      "image/png": "[encoded data removed]",
      "text/plain": [
       "<Figure size 432x288 with 1 Axes>"
      ]
     },
     "metadata": {
      "needs_background": "light"
     },
     "output_type": "display_data"
    }
   ],
   "source": [
    "fig = plt.figure()\n",
    "ax = fig.add_subplot(1, 1, 1)\n",
    "ax.plot(in_degrees, out_degrees, 'o', color='r')\n",
    "ax.set_yscale('log')\n",
    "ax.set_xscale('log')\n",
    "plt.show()"
   ]
  },
  {
   "cell_type": "markdown",
   "metadata": {
    "jp-MarkdownHeadingCollapsed": true,
    "tags": []
   },
   "source": [
    "## in/out-degree cdf"
   ]
  },
  {
   "cell_type": "code",
   "execution_count": 21,
   "metadata": {},
   "outputs": [],
   "source": [
    "total_nodes = G_cc.number_of_nodes()\n",
    "\n",
    "in_counter = collections.Counter([d for n, d in G_cc.in_degree()])\n",
    "in_counter = sorted(in_counter.items())\n",
    "in_degrees = [d[0] for d in in_counter][:-1]\n",
    "in_freq = np.cumsum([d[1] / total_nodes for d in in_counter])\n",
    "in_freq = [1 - f for f in in_freq][:-1]\n",
    "\n",
    "out_counter = collections.Counter([d for n, d in G_cc.out_degree()])\n",
    "out_counter = sorted(out_counter.items())\n",
    "out_degrees = [d[0] for d in out_counter][:-1]\n",
    "out_freq = np.cumsum([d[1] / total_nodes for d in out_counter])\n",
    "out_freq = [1 - f for f in out_freq][:-1]\n"
   ]
  },
  {
   "cell_type": "code",
   "execution_count": 22,
   "metadata": {},
   "outputs": [],
   "source": [
    "# computing Erdős–Rényi in degree distributions\n",
    "avg_in = np.average([d for n, d in G_cc.in_degree()])\n",
    "N = total_nodes\n",
    "p = avg_in / N\n",
    "erdos_distr = [ comb(N - 1, k) * p**k * (1 - p)**(N - 1 - k) for k in range(13) ]"
   ]
  },
  {
   "cell_type": "code",
   "execution_count": 23,
   "metadata": {},
   "outputs": [
    {
     "data": {
      "image/png": "[encoded data removed]",
      "text/plain": [
       "<Figure size 432x288 with 1 Axes>"
      ]
     },
     "metadata": {
      "needs_background": "light"
     },
     "output_type": "display_data"
    }
   ],
   "source": [
    "# plot in and out degree CDFs, comparing to the Erdős–Rényi in degree distribution\n",
    "\n",
    "fig = plt.figure()\n",
    "ax = fig.add_subplot(1, 1, 1)\n",
    "ax.plot(in_degrees, in_freq, 'o', color='r', label='in-degree')\n",
    "ax.plot(out_degrees, out_freq, 'o', color='b', label='out-degree')\n",
    "ax.plot([i for i in range(13)], erdos_distr, 'o', color='g', label='Erdős–Rényi in-degree')\n",
    "ax.legend(loc=\"upper right\")\n",
    "ax.set_yscale('log')\n",
    "ax.set_xscale('log')\n",
    "plt.show()"
   ]
  },
  {
   "cell_type": "markdown",
   "metadata": {
    "jp-MarkdownHeadingCollapsed": true,
    "tags": []
   },
   "source": [
    "## edge weight cdf"
   ]
  },
  {
   "cell_type": "code",
   "execution_count": 24,
   "metadata": {},
   "outputs": [],
   "source": [
    "edge_data = [e for e in G_cc.edges.data()]"
   ]
  },
  {
   "cell_type": "code",
   "execution_count": 25,
   "metadata": {},
   "outputs": [],
   "source": [
    "total_edges = len(edge_data)"
   ]
  },
  {
   "cell_type": "code",
   "execution_count": 26,
   "metadata": {},
   "outputs": [],
   "source": [
    "# get CDF for 'total' strength\n",
    "GT_str_counter = collections.Counter([edge[2]['total'] for edge in edge_data])\n",
    "GT_str_counter = sorted(GT_str_counter.items())\n",
    "GT_str_weight = [d[0] for d in GT_str_counter]\n",
    "GT_str_freq = np.cumsum([d[1] / total_edges for d in GT_str_counter])\n",
    "GT_str_freq = [1 - f for f in GT_str_freq]\n",
    "\n",
    "# get CDF for 'count' strength\n",
    "GN_str_counter = collections.Counter([edge[2]['count'] for edge in edge_data])\n",
    "GN_str_counter = sorted(GN_str_counter.items())\n",
    "GN_str_weight = [d[0] for d in GN_str_counter]\n",
    "GN_str_freq = np.cumsum([d[1] / total_edges for d in GN_str_counter])\n",
    "GN_str_freq = [1 - f for f in GN_str_freq]"
   ]
  },
  {
   "cell_type": "code",
   "execution_count": 27,
   "metadata": {},
   "outputs": [
    {
     "data": {
      "image/png": "[encoded data removed]",
      "text/plain": [
       "<Figure size 432x288 with 1 Axes>"
      ]
     },
     "metadata": {
      "needs_background": "light"
     },
     "output_type": "display_data"
    }
   ],
   "source": [
    "fig = plt.figure()\n",
    "ax = fig.add_subplot(1, 1, 1)\n",
    "ax.plot(GT_str_weight, GT_str_freq, 'o', color='r', label='$G^T$')\n",
    "ax.plot(GN_str_weight, GN_str_freq, 'o', color='b', label='$G^N$')\n",
    "ax.legend(loc=\"upper right\")\n",
    "ax.set_yscale('log')\n",
    "ax.set_xscale('log')\n",
    "plt.show()"
   ]
  },
  {
   "cell_type": "markdown",
   "metadata": {
    "jp-MarkdownHeadingCollapsed": true,
    "tags": []
   },
   "source": [
    "## node strength cdf"
   ]
  },
  {
   "cell_type": "code",
   "execution_count": 28,
   "metadata": {},
   "outputs": [],
   "source": [
    "# get CDF for 'total' in-strength\n",
    "GT_in_counter = collections.Counter([d for n, d in G_cc.in_degree(weight='total')])\n",
    "GT_in_counter = sorted(GT_in_counter.items())\n",
    "GT_in_degrees = [d[0] for d in GT_in_counter][:-1]\n",
    "GT_in_freq = np.cumsum([d[1] / total_nodes for d in GT_in_counter])\n",
    "GT_in_freq = [1 - f for f in GT_in_freq][:-1]\n",
    "\n",
    "# get CDF for 'total' out-strength\n",
    "GT_out_counter = collections.Counter([d for n, d in G_cc.out_degree(weight='total')])\n",
    "GT_out_counter = sorted(GT_out_counter.items())\n",
    "GT_out_degrees = [d[0] for d in GT_out_counter][:-1]\n",
    "GT_out_freq = np.cumsum([d[1] / total_nodes for d in GT_out_counter])\n",
    "GT_out_freq = [1 - f for f in GT_out_freq][:-1]\n",
    "\n",
    "# get CDF for 'count' in-strength\n",
    "GN_in_counter = collections.Counter([d for n, d in G_cc.in_degree(weight='count')])\n",
    "GN_in_counter = sorted(GN_in_counter.items())\n",
    "GN_in_degrees = [d[0] for d in GN_in_counter][:-1]\n",
    "GN_in_freq = np.cumsum([d[1] / total_nodes for d in GN_in_counter])\n",
    "GN_in_freq = [1 - f for f in GN_in_freq][:-1]\n",
    "\n",
    "# get CDF for 'count' out-strength\n",
    "GN_out_counter = collections.Counter([d for n, d in G_cc.out_degree(weight='count')])\n",
    "GN_out_counter = sorted(GN_out_counter.items())\n",
    "GN_out_degrees = [d[0] for d in GN_out_counter][:-1]\n",
    "GN_out_freq = np.cumsum([d[1] / total_nodes for d in GN_out_counter])\n",
    "GN_out_freq = [1 - f for f in GN_out_freq][:-1]"
   ]
  },
  {
   "cell_type": "code",
   "execution_count": 29,
   "metadata": {},
   "outputs": [
    {
     "data": {
      "image/png": "[encoded data removed]",
      "text/plain": [
       "<Figure size 432x288 with 1 Axes>"
      ]
     },
     "metadata": {
      "needs_background": "light"
     },
     "output_type": "display_data"
    }
   ],
   "source": [
    "fig = plt.figure()\n",
    "ax = fig.add_subplot(1, 1, 1)\n",
    "ax.plot(GT_in_degrees, GT_in_freq, 'o', color='r', label='In-strength $G^T$')\n",
    "ax.plot(GT_out_degrees, GT_out_freq, 'o', color='b', label='Out-strength $G^T$')\n",
    "ax.plot(GN_in_degrees, GN_in_freq, 'o', color='g', label='In-strength $G^N$')\n",
    "ax.plot(GN_out_degrees, GN_out_freq, 'o', color='purple', label='Out-strength $G^N$')\n",
    "ax.legend(loc=\"upper right\")\n",
    "ax.set_yscale('log')\n",
    "ax.set_xscale('log')\n",
    "plt.show()"
   ]
  },
  {
   "cell_type": "markdown",
   "metadata": {
    "jp-MarkdownHeadingCollapsed": true,
    "tags": []
   },
   "source": [
    "## Strength vs Degree"
   ]
  },
  {
   "cell_type": "code",
   "execution_count": 60,
   "metadata": {},
   "outputs": [],
   "source": [
    "# get strengths and degree of each node\n",
    "\n",
    "GT_strengths = [s for v, s in G_cc.degree(weight='total')]\n",
    "GN_strengths = [s for v, s in G_cc.degree(weight='count')]\n",
    "degrees = [d for v, d in G_cc.degree()]"
   ]
  },
  {
   "cell_type": "code",
   "execution_count": 67,
   "metadata": {},
   "outputs": [
    {
     "data": {
      "image/png": "[encoded data removed]",
      "text/plain": [
       "<Figure size 432x288 with 1 Axes>"
      ]
     },
     "metadata": {
      "needs_background": "light"
     },
     "output_type": "display_data"
    }
   ],
   "source": [
    "# degree vs 'total' strength plot\n",
    "\n",
    "fig = plt.figure()\n",
    "ax = fig.add_subplot(1, 1, 1)\n",
    "ax.plot(degrees, GT_strengths, '.', color='r', label='$G^T$')\n",
    "#ax.legend(loc=\"upper right\")\n",
    "ax.set_yscale('log')\n",
    "ax.set_xscale('log')\n",
    "ax.set_xlabel('Degree')\n",
    "ax.set_ylabel('Strength (total)')\n",
    "plt.show()"
   ]
  },
  {
   "cell_type": "code",
   "execution_count": 68,
   "metadata": {},
   "outputs": [
    {
     "data": {
      "image/png": "[encoded data removed]",
      "text/plain": [
       "<Figure size 432x288 with 1 Axes>"
      ]
     },
     "metadata": {
      "needs_background": "light"
     },
     "output_type": "display_data"
    }
   ],
   "source": [
    "# degree vs 'count' strength plot\n",
    "\n",
    "fig = plt.figure()\n",
    "ax = fig.add_subplot(1, 1, 1)\n",
    "ax.plot(degrees, GN_strengths, '.', color='b', label='$G^N$')\n",
    "#ax.legend(loc=\"upper right\")\n",
    "ax.set_yscale('log')\n",
    "ax.set_xscale('log')\n",
    "ax.set_xlabel('Degree')\n",
    "ax.set_ylabel('Strength (count)')\n",
    "plt.show()"
   ]
  },
  {
   "cell_type": "code",
   "execution_count": 63,
   "metadata": {},
   "outputs": [
    {
     "data": {
      "text/plain": [
       "SpearmanrResult(correlation=0.5711735067755702, pvalue=0.0)"
      ]
     },
     "execution_count": 63,
     "metadata": {},
     "output_type": "execute_result"
    }
   ],
   "source": [
    "scipy.stats.spearmanr(degrees, GT_strengths)"
   ]
  },
  {
   "cell_type": "code",
   "execution_count": 69,
   "metadata": {},
   "outputs": [
    {
     "data": {
      "text/plain": [
       "SpearmanrResult(correlation=0.6481431619382767, pvalue=0.0)"
      ]
     },
     "execution_count": 69,
     "metadata": {},
     "output_type": "execute_result"
    }
   ],
   "source": [
    "scipy.stats.spearmanr(degrees, GN_strengths)"
   ]
  },
  {
   "cell_type": "markdown",
   "metadata": {
    "jp-MarkdownHeadingCollapsed": true,
    "tags": []
   },
   "source": [
    "## Total vs Count"
   ]
  },
  {
   "cell_type": "code",
   "execution_count": 72,
   "metadata": {},
   "outputs": [],
   "source": [
    "edge_data = [e for e in G_cc.edges.data()]\n",
    "counts = [e[2]['count'] for e in edge_data]\n",
    "totals= [e[2]['total'] for e in edge_data]"
   ]
  },
  {
   "cell_type": "code",
   "execution_count": null,
   "metadata": {},
   "outputs": [],
   "source": [
    "fig = plt.figure(dpi=1200)\n",
    "ax = fig.add_subplot(1, 1, 1)\n",
    "ax.plot(totals, counts, '.', color='0')\n",
    "#ax.legend(loc=\"upper right\")\n",
    "ax.set_yscale('log')\n",
    "ax.set_xscale('log')\n",
    "ax.set_xlabel('Total')\n",
    "ax.set_ylabel('Count')\n",
    "plt.savefig('count_vs_total.png')\n",
    "plt.show()"
   ]
  },
  {
   "cell_type": "code",
   "execution_count": 75,
   "metadata": {},
   "outputs": [
    {
     "data": {
      "text/plain": [
       "SpearmanrResult(correlation=0.7299619627894224, pvalue=0.0)"
      ]
     },
     "execution_count": 75,
     "metadata": {},
     "output_type": "execute_result"
    }
   ],
   "source": [
    "# spearman rank correlation coefficient, total vs count\n",
    "\n",
    "scipy.stats.spearmanr(totals, counts)"
   ]
  },
  {
   "cell_type": "markdown",
   "metadata": {},
   "source": [
    "## Robustness Testing"
   ]
  },
  {
   "cell_type": "markdown",
   "metadata": {},
   "source": [
    "## Rewiring"
   ]
  },
  {
   "cell_type": "markdown",
   "metadata": {
    "tags": []
   },
   "source": [
    "### Rewired Error Robustness"
   ]
  },
  {
   "cell_type": "code",
   "execution_count": 4,
   "metadata": {},
   "outputs": [],
   "source": [
    "g_cc = get_graph()"
   ]
  },
  {
   "cell_type": "code",
   "execution_count": 5,
   "metadata": {},
   "outputs": [],
   "source": [
    "def rand_attack(target, vertices, delta_x=1620):\n",
    "    '''\n",
    "    Returns the average finite cluster size of the graph after removing delta_x nodes\n",
    "    \n",
    "    Parameters:\n",
    "    target (gt.Graph): Target graph to attack\n",
    "    vertices (list of gt.Vertex): Vertices of target, the first delta_x of which will be removed from target and the list itself\n",
    "    delta_x (int): The number of nodes to remove\n",
    "    \n",
    "    Returns:\n",
    "    int: The resulting average finite cluster size of target after node removal\n",
    "    '''\n",
    "    to_delete = vertices[:delta_x]\n",
    "    target.remove_vertex(to_delete, fast=True)\n",
    "    del vertices[:delta_x]\n",
    "    return avg_size(target)\n",
    "\n",
    "\n",
    "def avg_size(target):\n",
    "    '''\n",
    "    Returns the average finite cluster size of the target graph\n",
    "    \n",
    "    Parameters:\n",
    "    target (gt.Graph): Graph to compute average finite cluster size of\n",
    "    \n",
    "    Returns:\n",
    "    int: The average finite cluster size of target\n",
    "    '''\n",
    "    total_nodes = len(list(target.get_vertices()))\n",
    "    _, hist = gt.label_components(target, directed=False)\n",
    "    hist = np.sort(hist)[:-1]\n",
    "    numerator = np.sum(np.power(hist, 2) / total_nodes)\n",
    "    denominator = np.sum(hist / total_nodes)\n",
    "    return numerator / denominator\n",
    "\n",
    "\n",
    "def get_nodes(target):\n",
    "    '''\n",
    "    Returns the nodes of a graph in a random order\n",
    "    \n",
    "    Parameters:\n",
    "    target (gt.Graph): Graph to get nodes from\n",
    "    \n",
    "    Returns:\n",
    "    list of gt.Vertex: The nodes of target\n",
    "    '''\n",
    "    vertices = [v for v in target.get_vertices()]\n",
    "    np.random.shuffle(vertices)\n",
    "    return vertices\n",
    "\n",
    "\n",
    "def approx_area(sizes):\n",
    "    '''\n",
    "    Computes the R-Index of an attack\n",
    "    \n",
    "    Parameters:\n",
    "    sizes (list of int): Normalized largest weakly connected component size after each node removal\n",
    "    \n",
    "    Returns:\n",
    "    int: R-Index of the corresponding attack\n",
    "    '''\n",
    "    return sum(sizes) / (len(sizes) + 1)"
   ]
  },
  {
   "cell_type": "code",
   "execution_count": 16,
   "metadata": {},
   "outputs": [],
   "source": [
    "# Perform random attack on original graph and rewired graph\n",
    "\n",
    "sizes, _ = gt.vertex_percolation(g_cc, get_nodes(g_cc))\n",
    "gt.random_rewire(g_cc, n_iter=2)\n",
    "sizes_rewire, _ = gt.vertex_percolation(g_cc, get_nodes(g_cc))"
   ]
  },
  {
   "cell_type": "code",
   "execution_count": 17,
   "metadata": {},
   "outputs": [
    {
     "data": {
      "image/png": "[encoded data removed]",
      "text/plain": [
       "<Figure size 432x288 with 1 Axes>"
      ]
     },
     "metadata": {
      "needs_background": "light"
     },
     "output_type": "display_data"
    }
   ],
   "source": [
    "nodes_removed = [i / 1622173 for i in range(1622173)]\n",
    "sizes = sizes[::-1]\n",
    "sizes = [size / 1622173 for size in sizes]\n",
    "max_size_rewire = len(list(gt.extract_largest_component(g_cc, directed=False).get_vertices()))\n",
    "sizes_rewire = sizes_rewire[::-1]\n",
    "sizes_rewire = [size / max_size_rewire for size in sizes_rewire]\n",
    "\n",
    "fig = plt.figure()\n",
    "ax = fig.add_subplot(1, 1, 1)\n",
    "ax.plot(nodes_removed, sizes, color='r', label='Original')\n",
    "ax.plot(nodes_removed, sizes_rewire, color='b', label='Rewired')\n",
    "ax.legend(loc=\"upper right\")\n",
    "ax.set_xlabel('Proportion of nodes removed')\n",
    "ax.set_ylabel('Normalized largest component size')\n",
    "plt.show()"
   ]
  },
  {
   "cell_type": "code",
   "execution_count": 18,
   "metadata": {},
   "outputs": [
    {
     "name": "stdout",
     "output_type": "stream",
     "text": [
      "APPROX AREA REAL: 0.3555436073942095\n",
      "APPROX AREA REWIRE: 0.3585942155642629\n"
     ]
    }
   ],
   "source": [
    "print(f'APPROX AREA REAL: {approx_area(sizes)}')\n",
    "print(f'APPROX AREA REWIRE: {approx_area(sizes_rewire)}')"
   ]
  },
  {
   "cell_type": "code",
   "execution_count": 17,
   "metadata": {},
   "outputs": [],
   "source": [
    "indices = []\n",
    "indices_rewire = []\n",
    "NUM_RUNS = 100\n",
    "\n",
    "# get R-indices of 100 random attacks on original network\n",
    "g_cc = get_graph()\n",
    "for run in range(NUM_RUNS):\n",
    "    sizes, _ = gt.vertex_percolation(g_cc, get_nodes(g_cc))\n",
    "    sizes = [size / 1622173 for size in sizes]\n",
    "    indices.append(approx_area(sizes))"
   ]
  },
  {
   "cell_type": "code",
   "execution_count": 18,
   "metadata": {},
   "outputs": [],
   "source": [
    "# get R-indices of 100 random attacks on rewired networks\n",
    "for run in range(NUM_RUNS):\n",
    "    gt.random_rewire(g_cc, n_iter=2)\n",
    "    sizes_rewire, _ = gt.vertex_percolation(g_cc, get_nodes(g_cc))\n",
    "    max_size_rewire = len(list(gt.extract_largest_component(g_cc, directed=False).get_vertices()))\n",
    "    sizes_rewire = [size / max_size_rewire for size in sizes_rewire]\n",
    "    indices_rewire.append(approx_area(sizes_rewire))"
   ]
  },
  {
   "cell_type": "code",
   "execution_count": 7,
   "metadata": {},
   "outputs": [
    {
     "name": "stdout",
     "output_type": "stream",
     "text": [
      "AVG R-INDEX REAL: 0.3598084835452147\n",
      "AVG R-INDEX REWIRE: 0.35985230718251804\n"
     ]
    }
   ],
   "source": [
    "print(f'AVG R-INDEX REAL: {np.average(indices)}')\n",
    "print(f'AVG R-INDEX REWIRE: {np.average(indices_rewire)}')"
   ]
  },
  {
   "cell_type": "code",
   "execution_count": 19,
   "metadata": {},
   "outputs": [
    {
     "name": "stdout",
     "output_type": "stream",
     "text": [
      "STD R-INDEX REAL: 0.001793501377374081\n",
      "STD R-INDEX REWIRE: 0.00155413765063896\n"
     ]
    }
   ],
   "source": [
    "print(f'STD R-INDEX REAL: {np.std(indices)}')\n",
    "print(f'STD R-INDEX REWIRE: {np.std(indices_rewire)}')"
   ]
  },
  {
   "cell_type": "code",
   "execution_count": 8,
   "metadata": {},
   "outputs": [
    {
     "data": {
      "text/plain": [
       "KstestResult(statistic=0.07, pvalue=0.9684099261397212)"
      ]
     },
     "execution_count": 8,
     "metadata": {},
     "output_type": "execute_result"
    }
   ],
   "source": [
    "# Kolmogorov-Smirnov test on original and rewired R-indices\n",
    "\n",
    "scipy.stats.ks_2samp(indices, indices_rewire)"
   ]
  },
  {
   "cell_type": "code",
   "execution_count": null,
   "metadata": {},
   "outputs": [],
   "source": [
    "# get finite cluster sizes corresponding to random attack on original network\n",
    "\n",
    "g_cc = get_graph()\n",
    "avg_sizes = []\n",
    "\n",
    "NUM_RUNS = 1000\n",
    "for run in range(NUM_RUNS):\n",
    "    length = rand_attack(g_cc, get_nodes(g_cc))\n",
    "    avg_sizes.append(length)"
   ]
  },
  {
   "cell_type": "code",
   "execution_count": null,
   "metadata": {},
   "outputs": [],
   "source": [
    "# get finite cluster sizes corresponding to random attacks on 20 rewired networks\n",
    "\n",
    "run_lengths = np.empty((0, 1000))\n",
    "g_cc = get_graph()\n",
    "\n",
    "for rewiring in range(20):\n",
    "    g_cc = get_graph()\n",
    "    gt.random_rewire(g_cc)\n",
    "    print(f'REWIRE {rewiring}')\n",
    "    lengths = []\n",
    "\n",
    "    NUM_RUNS = 1000\n",
    "    for run in range(NUM_RUNS):\n",
    "        length = rand_attack(g_cc, get_nodes(g_cc))\n",
    "        lengths.append(length)\n",
    "    run_lengths = np.vstack((run_lengths, lengths))\n"
   ]
  },
  {
   "cell_type": "code",
   "execution_count": 20,
   "metadata": {},
   "outputs": [],
   "source": [
    "size_avg = np.average(run_lengths, axis=0)\n",
    "size_std = np.std(run_lengths, axis=0)"
   ]
  },
  {
   "cell_type": "code",
   "execution_count": 22,
   "metadata": {},
   "outputs": [],
   "source": [
    "# normalize original and rewired aggregate finite cluster sizes\n",
    "\n",
    "size_avg -= np.min(size_avg)\n",
    "min_size = np.min(avg_sizes)\n",
    "avg_sizes = [size - min_size for size in avg_sizes]\n",
    "\n",
    "size_std = size_std / np.max(size_std)\n",
    "size_avg = size_avg / np.max(size_avg)\n",
    "max_size = np.max(avg_sizes)\n",
    "avg_sizes = [size / max_size for size in avg_sizes]"
   ]
  },
  {
   "cell_type": "code",
   "execution_count": 25,
   "metadata": {},
   "outputs": [
    {
     "data": {
      "image/png": "[encoded data removed]",
      "text/plain": [
       "<Figure size 432x288 with 1 Axes>"
      ]
     },
     "metadata": {
      "needs_background": "light"
     },
     "output_type": "display_data"
    }
   ],
   "source": [
    "nodes_removed = [i * 1620 / 1622713 for i in range(1000)]\n",
    "\n",
    "fig = plt.figure()\n",
    "ax = fig.add_subplot(1, 1, 1)\n",
    "ax.plot(nodes_removed, avg_sizes, color='r', label='Original')\n",
    "ax.plot(nodes_removed, size_avg, color='b', label='Rewired')\n",
    "ax.fill_between(nodes_removed, size_avg + size_std, size_avg - size_std, facecolor='blue', alpha=0.5)\n",
    "ax.legend(loc=\"lower left\")\n",
    "ax.set_xlabel('$p$')\n",
    "ax.set_ylabel('Average finite cluster size')\n",
    "plt.show()"
   ]
  },
  {
   "cell_type": "markdown",
   "metadata": {},
   "source": [
    "### Rewired Deg Attack"
   ]
  },
  {
   "cell_type": "code",
   "execution_count": 20,
   "metadata": {},
   "outputs": [],
   "source": [
    "g_cc = get_graph()"
   ]
  },
  {
   "cell_type": "code",
   "execution_count": 21,
   "metadata": {},
   "outputs": [],
   "source": [
    "vertices_by_degree = sorted([v for v in g_cc.vertices()], key=lambda v: v.out_degree() + v.in_degree())"
   ]
  },
  {
   "cell_type": "code",
   "execution_count": 22,
   "metadata": {},
   "outputs": [],
   "source": [
    "sizes, comp = gt.vertex_percolation(g_cc, vertices_by_degree)"
   ]
  },
  {
   "cell_type": "code",
   "execution_count": 38,
   "metadata": {},
   "outputs": [
    {
     "data": {
      "text/plain": [
       "0.005065257283296363"
      ]
     },
     "execution_count": 38,
     "metadata": {},
     "output_type": "execute_result"
    }
   ],
   "source": [
    "sizes = [size / 1622173 for size in sizes]\n",
    "approx_area(sizes)"
   ]
  },
  {
   "cell_type": "code",
   "execution_count": 12,
   "metadata": {},
   "outputs": [],
   "source": [
    "def deg_attack(target, vertices, delta_x=1620):\n",
    "    most_connected_nodes = vertices[:delta_x]\n",
    "    target.remove_vertex(most_connected_nodes, fast=True)\n",
    "    del vertices[:delta_x]\n",
    "    return avg_size(target)\n",
    "\n",
    "\n",
    "def avg_size(target):\n",
    "    total_nodes = len(list(target.get_vertices()))\n",
    "    _, hist = gt.label_components(target, directed=False)\n",
    "    hist = np.sort(hist)[:-1]\n",
    "    numerator = np.sum(np.power(hist, 2) / total_nodes)\n",
    "    denominator = np.sum(hist / total_nodes)\n",
    "    return numerator / denominator\n",
    "\n",
    "\n",
    "def approx_area(sizes):\n",
    "    return sum(sizes) / (len(sizes) + 1)"
   ]
  },
  {
   "cell_type": "code",
   "execution_count": 30,
   "metadata": {},
   "outputs": [],
   "source": [
    "avg_sizes = []\n",
    "g_cc = get_graph()\n",
    "\n",
    "NUM_RUNS = 100\n",
    "vertices_by_degree = sorted([v for v in g_cc.vertices()], key=lambda v: v.out_degree() + v.in_degree(), reverse=True)\n",
    "for run in range(NUM_RUNS):\n",
    "    length = deg_attack(g_cc, vertices_by_degree)\n",
    "    avg_sizes.append(length)\n",
    "    vertices_by_degree = sorted([v for v in g_cc.vertices()], key=lambda v: v.out_degree() + v.in_degree(), reverse=True)"
   ]
  },
  {
   "cell_type": "code",
   "execution_count": null,
   "metadata": {},
   "outputs": [],
   "source": [
    "run_lengths = np.empty((0, 100))\n",
    "g_cc = get_graph()\n",
    "\n",
    "for rewiring in range(100):\n",
    "    g_cc = get_graph()\n",
    "    gt.random_rewire(g_cc)\n",
    "    print(f'REWIRE {rewiring}')\n",
    "    lengths = []\n",
    "\n",
    "    NUM_RUNS = 100\n",
    "    vertices_by_degree = sorted([v for v in g_cc.vertices()], key=lambda v: v.out_degree() + v.in_degree(), reverse=True)\n",
    "    for run in range(NUM_RUNS):\n",
    "        length = deg_attack(g_cc, vertices_by_degree)\n",
    "        lengths.append(length)\n",
    "        vertices_by_degree = sorted([v for v in g_cc.vertices()], key=lambda v: v.out_degree() + v.in_degree(), reverse=True)\n",
    "    run_lengths = np.vstack((run_lengths, lengths))\n"
   ]
  },
  {
   "cell_type": "code",
   "execution_count": 25,
   "metadata": {},
   "outputs": [],
   "source": [
    "size_avg = np.average(run_lengths, axis=0)\n",
    "size_std = np.std(run_lengths, axis=0)"
   ]
  },
  {
   "cell_type": "code",
   "execution_count": null,
   "metadata": {},
   "outputs": [],
   "source": [
    "size_avg -= np.min(size_avg)\n",
    "min_size = np.min(avg_sizes)\n",
    "avg_sizes = [size - min_size for size in avg_sizes]"
   ]
  },
  {
   "cell_type": "code",
   "execution_count": null,
   "metadata": {},
   "outputs": [],
   "source": [
    "size_std = size_std / np.max(size_std)\n",
    "size_avg = size_avg / np.max(size_avg)\n",
    "max_size = np.max(avg_sizes)\n",
    "avg_sizes = [size / max_size for size in avg_sizes]"
   ]
  },
  {
   "cell_type": "code",
   "execution_count": 41,
   "metadata": {},
   "outputs": [
    {
     "data": {
      "image/png": "[encoded data removed]",
      "text/plain": [
       "<Figure size 432x288 with 1 Axes>"
      ]
     },
     "metadata": {
      "needs_background": "light"
     },
     "output_type": "display_data"
    }
   ],
   "source": [
    "nodes_removed = [i * 1620 / 1622713 for i in range(100)]\n",
    "\n",
    "fig = plt.figure()\n",
    "ax = fig.add_subplot(1, 1, 1)\n",
    "ax.plot(nodes_removed, avg_sizes, color='r', label='Original')\n",
    "ax.plot(nodes_removed, size_avg, color='b', label='Rewired')\n",
    "ax.fill_between(nodes_removed, size_avg + size_std, size_avg - size_std, facecolor='blue', alpha=0.5)\n",
    "ax.legend(loc=\"upper right\")\n",
    "ax.set_xlabel('$p$')\n",
    "ax.set_ylabel('Average finite cluster size')\n",
    "plt.show()"
   ]
  },
  {
   "cell_type": "code",
   "execution_count": 35,
   "metadata": {},
   "outputs": [],
   "source": [
    "r_indices = []\n",
    "run_sizes = np.empty((0, 1622173))\n",
    "g_cc = get_graph()\n",
    "\n",
    "for run in range(100):\n",
    "    gt.random_rewire(g_cc, n_iter=2)\n",
    "    influential_nodes = sorted([v for v in g_cc.vertices()], key=lambda v: v.out_degree() + v.in_degree())\n",
    "    sizes, _ = gt.vertex_percolation(g_cc, influential_nodes)\n",
    "    max_size_rewire = len(list(gt.extract_largest_component(g_cc, directed=False).get_vertices()))\n",
    "    sizes = [size / max_size_rewire for size in sizes]\n",
    "    run_sizes = np.vstack((run_sizes, sizes))\n",
    "    r_indices.append(approx_area(sizes))"
   ]
  },
  {
   "cell_type": "code",
   "execution_count": null,
   "metadata": {},
   "outputs": [],
   "source": [
    "print(np.average(r_indices))\n",
    "print(np.std(r_indices))"
   ]
  },
  {
   "cell_type": "code",
   "execution_count": 37,
   "metadata": {},
   "outputs": [],
   "source": [
    "size_avg = np.average(run_sizes, axis=0)\n",
    "size_std = np.std(run_sizes, axis=0)"
   ]
  },
  {
   "cell_type": "code",
   "execution_count": 40,
   "metadata": {},
   "outputs": [],
   "source": [
    "g_cc = get_graph()\n",
    "sizes, _ = gt.vertex_percolation(g_cc, sorted([v for v in g_cc.vertices()], key=lambda v: v.out_degree() + v.in_degree()))"
   ]
  },
  {
   "cell_type": "code",
   "execution_count": 46,
   "metadata": {},
   "outputs": [
    {
     "data": {
      "image/png": "[encoded data removed]",
      "text/plain": [
       "<Figure size 432x288 with 1 Axes>"
      ]
     },
     "metadata": {
      "needs_background": "light"
     },
     "output_type": "display_data"
    }
   ],
   "source": [
    "nodes_removed = [i / 1622173 for i in range(162000)]\n",
    "sizes = sizes[::-1][:162000]\n",
    "sizes = [size / 1622173 for size in sizes]\n",
    "print(approx_area(sizes))\n",
    "size_avg = size_avg[::-1][:162000]\n",
    "size_std = size_std[::-1][:162000]\n",
    "\n",
    "fig = plt.figure()\n",
    "ax = fig.add_subplot(1, 1, 1)\n",
    "ax.plot(nodes_removed, sizes, color='r', label='Original')\n",
    "ax.plot(nodes_removed, size_avg, color='b', label='Rewired')\n",
    "ax.fill_between(nodes_removed, size_avg + size_std, size_avg - size_std, facecolor='blue', alpha=0.5)\n",
    "ax.legend(loc=\"upper right\")\n",
    "ax.set_xlabel('Proportion of nodes removed')\n",
    "ax.set_ylabel('Normalized largest component size')\n",
    "plt.show()"
   ]
  },
  {
   "cell_type": "code",
   "execution_count": 60,
   "metadata": {},
   "outputs": [
    {
     "data": {
      "text/plain": [
       "0.008341217898962023"
      ]
     },
     "execution_count": 60,
     "metadata": {},
     "output_type": "execute_result"
    }
   ],
   "source": [
    "np.average(r_indices)"
   ]
  },
  {
   "cell_type": "code",
   "execution_count": 39,
   "metadata": {},
   "outputs": [
    {
     "data": {
      "text/plain": [
       "1.2779432537023214e-05"
      ]
     },
     "execution_count": 39,
     "metadata": {},
     "output_type": "execute_result"
    }
   ],
   "source": [
    "np.std(r_indices)"
   ]
  },
  {
   "cell_type": "code",
   "execution_count": 34,
   "metadata": {},
   "outputs": [],
   "source": [
    "kernel = scipy.stats.gaussian_kde(r_indices)"
   ]
  },
  {
   "cell_type": "code",
   "execution_count": 39,
   "metadata": {},
   "outputs": [
    {
     "data": {
      "text/plain": [
       "0.0"
      ]
     },
     "execution_count": 39,
     "metadata": {},
     "output_type": "execute_result"
    }
   ],
   "source": [
    "kernel.integrate_box_1d(-np.inf, 0.005065257283296363)"
   ]
  },
  {
   "cell_type": "markdown",
   "metadata": {},
   "source": [
    "#### Eigenvector"
   ]
  },
  {
   "cell_type": "code",
   "execution_count": 10,
   "metadata": {},
   "outputs": [],
   "source": [
    "g_cc = get_graph()\n",
    "A = gt.adjacency(g_cc)\n",
    "del g_cc\n",
    "G_cc = nx.from_numpy_matrix(A, create_using=nx.MultiDiGraph)\n",
    "del A"
   ]
  },
  {
   "cell_type": "code",
   "execution_count": 3,
   "metadata": {},
   "outputs": [],
   "source": [
    "def eig_attack(target, vertices, delta_x=1620):\n",
    "    to_delete = vertices[:delta_x]\n",
    "    target.remove_vertex(to_delete, fast=True)\n",
    "    del vertices[:delta_x]\n",
    "    return compute_xi(target)\n",
    "\n",
    "\n",
    "def avg_size(G):\n",
    "    total_nodes = len(G.nodes())\n",
    "    components = [len(c) for c in sorted(nx.weakly_connected_components(G), key=len, reverse=True)][1:]\n",
    "    numerator = sum([cc ** 2 / total_nodes for cc in components])\n",
    "    denominator = sum([cc / total_nodes for cc in components])\n",
    "    return numerator / denominator\n",
    "\n",
    "\n",
    "def eig_attack_avg(target, centralities, delta_x=1620):\n",
    "    most_influential = centralities[:delta_x]\n",
    "    target.remove_nodes_from(most_influential)\n",
    "    del centralities[:delta_x]\n",
    "    return avg_size(target)\n",
    "\n",
    "\n",
    "def get_influential_nodes(target, reverse=True):\n",
    "    _, eigen_centralities = gt.eigenvector(g_cc)\n",
    "    return sorted([i for i in range(len(target.get_vertices()))], key = lambda v: eigen_centralities[v], reverse=reverse)\n"
   ]
  },
  {
   "cell_type": "code",
   "execution_count": 11,
   "metadata": {},
   "outputs": [],
   "source": [
    "eigenvector_centrality = nx.eigenvector_centrality_numpy(G_cc)"
   ]
  },
  {
   "cell_type": "code",
   "execution_count": 12,
   "metadata": {},
   "outputs": [],
   "source": [
    "eigenvector_centrality = list(map(lambda x: x[0], sorted(eigenvector_centrality.items(), key = lambda k : k[1], reverse=True)))\n",
    "avg_sizes = []\n",
    "max_size = len(G_cc.nodes())\n",
    "\n",
    "NUM_RUNS = 1000\n",
    "for run in range(NUM_RUNS):\n",
    "    avg_sizes.append(eig_attack_avg(G_cc, eigenvector_centrality))"
   ]
  },
  {
   "cell_type": "code",
   "execution_count": null,
   "metadata": {},
   "outputs": [],
   "source": [
    "run_lengths = np.empty((0, 1000))\n",
    "\n",
    "for rewiring in range(20):\n",
    "    g_cc = get_graph()\n",
    "    gt.random_rewire(g_cc)\n",
    "    A = gt.adjacency(g_cc)\n",
    "    g_cc = nx.from_numpy_matrix(A, create_using=nx.DiGraph)\n",
    "    del A\n",
    "    print(f'REWIRE {rewiring}')\n",
    "    lengths = []\n",
    "\n",
    "    NUM_RUNS = 1000\n",
    "    eigenvector_centrality = nx.eigenvector_centrality_numpy(g_cc)\n",
    "    eigenvector_centrality = list(map(lambda x: x[0], sorted(eigenvector_centrality.items(), key = lambda k : k[1], reverse=True)))\n",
    "    for run in range(NUM_RUNS):\n",
    "        lengths.append(eig_attack_avg(g_cc, eigenvector_centrality))\n",
    "    run_lengths = np.vstack((run_lengths, lengths))\n"
   ]
  },
  {
   "cell_type": "code",
   "execution_count": 8,
   "metadata": {},
   "outputs": [],
   "source": [
    "size_avg = np.average(run_lengths, axis=0)\n",
    "size_std = np.std(run_lengths, axis=0)"
   ]
  },
  {
   "cell_type": "code",
   "execution_count": 13,
   "metadata": {},
   "outputs": [],
   "source": [
    "size_avg -= np.min(size_avg)\n",
    "min_size = np.min(avg_sizes)\n",
    "avg_sizes = [size - min_size for size in avg_sizes]\n",
    "\n",
    "size_std = size_std / np.max(size_std)\n",
    "size_avg = size_avg / np.max(size_avg)\n",
    "max_size = np.max(avg_sizes)\n",
    "avg_sizes = [size / max_size for size in avg_sizes]"
   ]
  },
  {
   "cell_type": "code",
   "execution_count": 15,
   "metadata": {},
   "outputs": [],
   "source": [
    "size_avg = size_avg[::-1]\n",
    "size_std = size_std[::-1]\n",
    "avg_sizes = avg_sizes[::-1]"
   ]
  },
  {
   "cell_type": "code",
   "execution_count": 16,
   "metadata": {},
   "outputs": [
    {
     "data": {
      "image/png": "[encoded data removed]",
      "text/plain": [
       "<Figure size 432x288 with 1 Axes>"
      ]
     },
     "metadata": {
      "needs_background": "light"
     },
     "output_type": "display_data"
    }
   ],
   "source": [
    "nodes_removed = [i * 1620 / 1622713 for i in range(1000)]\n",
    "\n",
    "fig = plt.figure()\n",
    "ax = fig.add_subplot(1, 1, 1)\n",
    "ax.plot(nodes_removed, avg_sizes, color='r', label='Original')\n",
    "ax.plot(nodes_removed, size_avg, color='b', label='Rewired')\n",
    "ax.fill_between(nodes_removed, size_avg + size_std, size_avg - size_std, facecolor='blue', alpha=0.5)\n",
    "ax.legend(loc=\"upper right\")\n",
    "ax.set_xlabel('$p$')\n",
    "ax.set_ylabel('Average finite cluster size')\n",
    "plt.show()"
   ]
  },
  {
   "cell_type": "code",
   "execution_count": 51,
   "metadata": {},
   "outputs": [],
   "source": [
    "g_cc = get_graph()"
   ]
  },
  {
   "cell_type": "code",
   "execution_count": 33,
   "metadata": {},
   "outputs": [
    {
     "data": {
      "text/plain": [
       "0.028755939155101766"
      ]
     },
     "execution_count": 33,
     "metadata": {},
     "output_type": "execute_result"
    }
   ],
   "source": [
    "def approx_area(sizes):\n",
    "    return sum(sizes) / (len(sizes) + 1)\n",
    "\n",
    "approx_area(sizes)"
   ]
  },
  {
   "cell_type": "code",
   "execution_count": 50,
   "metadata": {},
   "outputs": [],
   "source": [
    "r_indices = []\n",
    "run_sizes = np.empty((0, 1622173))\n",
    "g_cc = get_graph()\n",
    "\n",
    "for run in range(100):\n",
    "    gt.random_rewire(g_cc, n_iter=2)\n",
    "    influential_nodes = get_influential_nodes(g_cc, reverse=False)\n",
    "    sizes, _ = gt.vertex_percolation(g_cc, influential_nodes)\n",
    "    max_size_rewire = len(list(gt.extract_largest_component(g_cc, directed=False).get_vertices()))\n",
    "    sizes = [size / max_size_rewire for size in sizes]\n",
    "    run_sizes = np.vstack((run_sizes, sizes))\n",
    "    r_indices.append(approx_area(sizes))"
   ]
  },
  {
   "cell_type": "code",
   "execution_count": null,
   "metadata": {},
   "outputs": [],
   "source": [
    "g_cc = get_graph()\n",
    "influential_nodes = get_influential_nodes(g_cc, reverse=False)\n",
    "sizes, _ = gt.vertex_percolation(g_cc, influential_nodes)"
   ]
  },
  {
   "cell_type": "code",
   "execution_count": 54,
   "metadata": {},
   "outputs": [],
   "source": [
    "size_avg = np.average(run_sizes, axis=0)\n",
    "size_std = np.std(run_sizes, axis=0)"
   ]
  },
  {
   "cell_type": "code",
   "execution_count": 60,
   "metadata": {},
   "outputs": [
    {
     "data": {
      "image/png": "[encoded data removed]",
      "text/plain": [
       "<Figure size 432x288 with 1 Axes>"
      ]
     },
     "metadata": {
      "needs_background": "light"
     },
     "output_type": "display_data"
    }
   ],
   "source": [
    "nodes_removed = [i / 1622173 for i in range(162000)]\n",
    "sizes = sizes[::-1][:162000]\n",
    "sizes = [size / 1622173 for size in sizes]\n",
    "print(approx_area(sizes))\n",
    "size_avg = size_avg[::-1][:162000]\n",
    "size_std = size_std[::-1][:162000]\n",
    "\n",
    "fig = plt.figure()\n",
    "ax = fig.add_subplot(1, 1, 1)\n",
    "ax.plot(nodes_removed, sizes, color='r', label='Original')\n",
    "ax.plot(nodes_removed, size_avg, color='b', label='Rewired')\n",
    "ax.fill_between(nodes_removed, size_avg + 2 * size_std, size_avg - 2 * size_std, facecolor='blue', alpha=0.5)\n",
    "ax.legend(loc=\"upper right\")\n",
    "ax.set_xlabel('Proportion of nodes removed')\n",
    "ax.set_ylabel('Normalized largest component size')\n",
    "plt.show()"
   ]
  },
  {
   "cell_type": "code",
   "execution_count": 35,
   "metadata": {},
   "outputs": [
    {
     "data": {
      "text/plain": [
       "0.014539070272986947"
      ]
     },
     "execution_count": 35,
     "metadata": {},
     "output_type": "execute_result"
    }
   ],
   "source": [
    "np.average(r_indices)"
   ]
  },
  {
   "cell_type": "code",
   "execution_count": 36,
   "metadata": {},
   "outputs": [
    {
     "data": {
      "text/plain": [
       "0.0002958396270229017"
      ]
     },
     "execution_count": 36,
     "metadata": {},
     "output_type": "execute_result"
    }
   ],
   "source": [
    "np.std(r_indices)"
   ]
  },
  {
   "cell_type": "code",
   "execution_count": 38,
   "metadata": {},
   "outputs": [],
   "source": [
    "kernel = scipy.stats.gaussian_kde(r_indices)"
   ]
  },
  {
   "cell_type": "code",
   "execution_count": 39,
   "metadata": {},
   "outputs": [
    {
     "data": {
      "text/plain": [
       "0.0"
      ]
     },
     "execution_count": 39,
     "metadata": {},
     "output_type": "execute_result"
    }
   ],
   "source": [
    "kernel.integrate_box_1d(0.028755939155101766, np.inf)"
   ]
  },
  {
   "cell_type": "markdown",
   "metadata": {},
   "source": [
    "#### Betweenness"
   ]
  },
  {
   "cell_type": "code",
   "execution_count": 40,
   "metadata": {},
   "outputs": [],
   "source": [
    "g_cc = get_graph()"
   ]
  },
  {
   "cell_type": "code",
   "execution_count": 35,
   "metadata": {},
   "outputs": [],
   "source": [
    "def bet_attack(target, vertices, delta_x=1620):\n",
    "    to_delete = vertices[:delta_x]\n",
    "    target.remove_vertex(to_delete, fast=True)\n",
    "    del vertices[:delta_x]\n",
    "    return avg_size(target)\n",
    "\n",
    "\n",
    "def avg_size(target):\n",
    "    total_nodes = len(list(target.get_vertices()))\n",
    "    _, hist = gt.label_components(target, directed=False)\n",
    "    hist = np.sort(hist)[:-1]\n",
    "    numerator = np.sum(np.power(hist, 2) / total_nodes)\n",
    "    denominator = np.sum(hist / total_nodes)\n",
    "    return numerator / denominator\n",
    "\n",
    "\n",
    "def get_influential_nodes(target, reverse=True):\n",
    "    vertices = [v for v in target.get_vertices()]\n",
    "    np.random.shuffle(vertices)\n",
    "    random_vertices = vertices[:1000]\n",
    "    vertex_betweenness, edge_betweenness = gt.betweenness(target, pivots=random_vertices)\n",
    "    return sorted([i for i in range(len(target.get_vertices()))], key = lambda v: vertex_betweenness[v], reverse=reverse)\n",
    "\n",
    "\n",
    "def approx_area(sizes):\n",
    "    return sum(sizes) / (len(sizes) + 1)\n"
   ]
  },
  {
   "cell_type": "code",
   "execution_count": 41,
   "metadata": {},
   "outputs": [
    {
     "name": "stdout",
     "output_type": "stream",
     "text": [
      "Betweenness computed, starting attack.\n",
      "RUN 99\n",
      "RUN 199\n",
      "RUN 299\n",
      "RUN 399\n",
      "RUN 499\n",
      "RUN 599\n",
      "RUN 699\n",
      "RUN 799\n",
      "RUN 899\n",
      "RUN 999\n"
     ]
    }
   ],
   "source": [
    "avg_sizes = []\n",
    "\n",
    "NUM_RUNS = 1000\n",
    "influential_nodes = get_influential_nodes(g_cc)\n",
    "print('Betweenness computed, starting attack.')\n",
    "for run in range(NUM_RUNS):\n",
    "    length = bet_attack(g_cc, influential_nodes)\n",
    "    avg_sizes.append(length)\n",
    "    influential_nodes = get_influential_nodes(g_cc)\n",
    "    if run % 100 == 99:\n",
    "        print(f'RUN {run}')"
   ]
  },
  {
   "cell_type": "code",
   "execution_count": 66,
   "metadata": {},
   "outputs": [
    {
     "data": {
      "image/png": "[encoded data removed]",
      "text/plain": [
       "<Figure size 432x288 with 1 Axes>"
      ]
     },
     "metadata": {
      "needs_background": "light"
     },
     "output_type": "display_data"
    }
   ],
   "source": [
    "nodes_removed = [i * 1620 / 1622713 for i in range(1000)]\n",
    "\n",
    "fig = plt.figure()\n",
    "ax = fig.add_subplot(1, 1, 1)\n",
    "ax.plot(nodes_removed, avg_sizes, color='r', label='Original')\n",
    "ax.set_xlabel('$p$')\n",
    "ax.set_ylabel('Average finite cluster size')\n",
    "plt.show()"
   ]
  },
  {
   "cell_type": "code",
   "execution_count": 4,
   "metadata": {},
   "outputs": [
    {
     "name": "stdout",
     "output_type": "stream",
     "text": [
      "AVG REWIRED R-INDEX: 0.02265143327345062\n",
      "STD REWIRED R-INDEX: 0.02265143327345062\n"
     ]
    }
   ],
   "source": [
    "r_indices = []\n",
    "run_sizes = np.empty((0, 1622173))\n",
    "g_cc = get_graph()\n",
    "\n",
    "for run in range(100):\n",
    "    gt.random_rewire(g_cc, n_iter=2)\n",
    "    influential_nodes = get_influential_nodes(g_cc, reverse=False)\n",
    "    sizes, _ = gt.vertex_percolation(g_cc, influential_nodes)\n",
    "    max_size_rewire = len(list(gt.extract_largest_component(g_cc, directed=False).get_vertices()))\n",
    "    sizes = [size / max_size_rewire for size in sizes]\n",
    "    run_sizes = np.vstack((run_sizes, sizes))\n",
    "    r_indices.append(approx_area(sizes))\n",
    "    \n",
    "print(f'AVG REWIRED R-INDEX: {np.average(r_indices)}')"
   ]
  },
  {
   "cell_type": "code",
   "execution_count": null,
   "metadata": {},
   "outputs": [],
   "source": [
    "g_cc = get_graph()\n",
    "influential_nodes = get_influential_nodes(g_cc, reverse=False)\n",
    "sizes, comp = gt.vertex_percolation(g_cc, influential_nodes)"
   ]
  },
  {
   "cell_type": "code",
   "execution_count": null,
   "metadata": {},
   "outputs": [],
   "source": [
    "run_lengths = np.empty((0, 1000))\n",
    "\n",
    "for rewiring in range(15):\n",
    "    g_cc = get_graph()\n",
    "    gt.random_rewire(g_cc)\n",
    "    print(f'REWIRE {rewiring}')\n",
    "    lengths = []\n",
    "\n",
    "    NUM_RUNS = 1000\n",
    "    for run in range(NUM_RUNS):\n",
    "        influential_nodes = get_influential_nodes(g_cc)\n",
    "        length = bet_attack(g_cc, influential_nodes)\n",
    "        lengths.append(length)\n",
    "    run_lengths = np.vstack((run_lengths, lengths))\n"
   ]
  },
  {
   "cell_type": "code",
   "execution_count": 69,
   "metadata": {},
   "outputs": [],
   "source": [
    "size_avg = np.average(run_lengths, axis=0)\n",
    "size_std = np.std(run_lengths, axis=0)"
   ]
  },
  {
   "cell_type": "code",
   "execution_count": 70,
   "metadata": {},
   "outputs": [],
   "source": [
    "size_avg -= np.min(size_avg)\n",
    "min_size = np.min(avg_sizes)\n",
    "avg_sizes = [size - min_size for size in avg_sizes]\n",
    "\n",
    "size_std = size_std / np.max(size_std)\n",
    "size_avg = size_avg / np.max(size_avg)\n",
    "max_size = np.max(avg_sizes)\n",
    "avg_sizes = [size / max_size for size in avg_sizes]"
   ]
  },
  {
   "cell_type": "code",
   "execution_count": 71,
   "metadata": {},
   "outputs": [
    {
     "data": {
      "image/png": "[encoded data removed]",
      "text/plain": [
       "<Figure size 432x288 with 1 Axes>"
      ]
     },
     "metadata": {
      "needs_background": "light"
     },
     "output_type": "display_data"
    }
   ],
   "source": [
    "nodes_removed = [i * 1620 / 1622713 for i in range(1000)]\n",
    "\n",
    "fig = plt.figure()\n",
    "ax = fig.add_subplot(1, 1, 1)\n",
    "ax.plot(nodes_removed, avg_sizes, color='r', label='Original')\n",
    "ax.plot(nodes_removed, size_avg, color='b', label='Rewired')\n",
    "ax.fill_between(nodes_removed, size_avg + size_std, size_avg - size_std, facecolor='blue', alpha=0.5)\n",
    "ax.legend(loc=\"upper right\")\n",
    "ax.set_xlabel('$p$')\n",
    "ax.set_ylabel('Average finite cluster size')\n",
    "plt.show()"
   ]
  },
  {
   "cell_type": "code",
   "execution_count": 5,
   "metadata": {},
   "outputs": [
    {
     "name": "stdout",
     "output_type": "stream",
     "text": [
      "STD REWIRED R-INDEX: 0.00024876299591328405\n"
     ]
    }
   ],
   "source": [
    "print(f'STD REWIRED R-INDEX: {np.std(r_indices)}')\n",
    "size_avg = np.average(run_sizes, axis=0)\n",
    "size_std = np.std(run_sizes, axis=0)"
   ]
  },
  {
   "cell_type": "code",
   "execution_count": 8,
   "metadata": {},
   "outputs": [
    {
     "data": {
      "image/png": "[encoded data removed]",
      "text/plain": [
       "<Figure size 432x288 with 1 Axes>"
      ]
     },
     "metadata": {
      "needs_background": "light"
     },
     "output_type": "display_data"
    }
   ],
   "source": [
    "nodes_removed = [i / 1622173 for i in range(162000)]\n",
    "sizes = sizes[::-1][:162000]\n",
    "sizes = [size / 1622173 for size in sizes]\n",
    "print(approx_area(sizes))\n",
    "size_avg = size_avg[::-1][:162000]\n",
    "size_std = size_std[::-1][:162000]\n",
    "\n",
    "fig = plt.figure()\n",
    "ax = fig.add_subplot(1, 1, 1)\n",
    "ax.plot(nodes_removed, sizes, color='r', label='Original')\n",
    "ax.plot(nodes_removed, size_avg, color='b', label='Rewired')\n",
    "ax.fill_between(nodes_removed, size_avg + 2 * size_std, size_avg - 2 * size_std, facecolor='blue', alpha=0.5)\n",
    "ax.legend(loc=\"upper right\")\n",
    "ax.set_xlabel('Proportion of nodes removed')\n",
    "ax.set_ylabel('Normalized largest component size')\n",
    "plt.show()"
   ]
  },
  {
   "cell_type": "code",
   "execution_count": 10,
   "metadata": {},
   "outputs": [],
   "source": [
    "kernel = scipy.stats.gaussian_kde(r_indices)"
   ]
  },
  {
   "cell_type": "code",
   "execution_count": 12,
   "metadata": {},
   "outputs": [
    {
     "data": {
      "text/plain": [
       "0.0"
      ]
     },
     "execution_count": 12,
     "metadata": {},
     "output_type": "execute_result"
    }
   ],
   "source": [
    "kernel.integrate_box_1d(-np.inf, 0.008203812487527516)"
   ]
  },
  {
   "cell_type": "markdown",
   "metadata": {},
   "source": [
    "#### Pagerank"
   ]
  },
  {
   "cell_type": "code",
   "execution_count": 27,
   "metadata": {},
   "outputs": [],
   "source": [
    "g_cc = get_graph()"
   ]
  },
  {
   "cell_type": "code",
   "execution_count": 33,
   "metadata": {},
   "outputs": [],
   "source": [
    "pageranks = gt.pagerank(g_cc)"
   ]
  },
  {
   "cell_type": "code",
   "execution_count": 24,
   "metadata": {},
   "outputs": [],
   "source": [
    "def get_influential_nodes(target, reverse=True):\n",
    "    pageranks = gt.pagerank(target)\n",
    "    return sorted([i for i in range(len(target.get_vertices()))], key = lambda v: pageranks[v], reverse=reverse)\n",
    "\n",
    "\n",
    "def page_attack(target, vertices, delta_x=1620):\n",
    "    to_delete = vertices[:delta_x]\n",
    "    target.remove_vertex(to_delete, fast=True)\n",
    "    del vertices[:delta_x]\n",
    "    return avg_size(target)\n",
    "\n",
    "\n",
    "def avg_size(target):\n",
    "    total_nodes = len(list(target.get_vertices()))\n",
    "    _, hist = gt.label_components(g_cc, directed=False)\n",
    "    hist = np.sort(hist)[:-1]\n",
    "    numerator = np.sum(np.power(hist, 2) / total_nodes)\n",
    "    denominator = np.sum(hist / total_nodes)\n",
    "    return numerator / denominator"
   ]
  },
  {
   "cell_type": "code",
   "execution_count": null,
   "metadata": {},
   "outputs": [],
   "source": [
    "avg_sizes = []\n",
    "\n",
    "NUM_RUNS = 100\n",
    "influential_nodes = get_influential_nodes(g_cc)\n",
    "print('Pagerank computed, starting attack.')\n",
    "for run in range(NUM_RUNS):\n",
    "    length = page_attack(g_cc, influential_nodes)\n",
    "    avg_sizes.append(length)\n",
    "    influential_nodes = get_influential_nodes(g_cc)\n",
    "    if run % 10 == 9:\n",
    "        print(f'RUN {run}')"
   ]
  },
  {
   "cell_type": "code",
   "execution_count": null,
   "metadata": {},
   "outputs": [],
   "source": [
    "run_lengths = np.empty((0, 100))\n",
    "\n",
    "for rewiring in range(20):\n",
    "    g_cc = get_graph()\n",
    "    gt.random_rewire(g_cc)\n",
    "    print(f'REWIRE {rewiring}')\n",
    "    lengths = []\n",
    "\n",
    "    NUM_RUNS = 100\n",
    "    for run in range(NUM_RUNS):\n",
    "        influential_nodes = get_influential_nodes(g_cc)\n",
    "        length = page_attack(g_cc, influential_nodes)\n",
    "        lengths.append(length)\n",
    "    run_lengths = np.vstack((run_lengths, lengths))\n"
   ]
  },
  {
   "cell_type": "code",
   "execution_count": 29,
   "metadata": {},
   "outputs": [],
   "source": [
    "size_avg = np.average(run_lengths, axis=0)\n",
    "size_std = np.std(run_lengths, axis=0)\n",
    "\n",
    "size_avg -= np.min(size_avg)\n",
    "min_size = np.min(avg_sizes)\n",
    "avg_sizes = [size - min_size for size in avg_sizes]\n",
    "\n",
    "size_std = size_std / np.max(size_std)\n",
    "size_avg = size_avg / np.max(size_avg)\n",
    "max_size = np.max(avg_sizes)\n",
    "avg_sizes = [size / max_size for size in avg_sizes]"
   ]
  },
  {
   "cell_type": "code",
   "execution_count": 31,
   "metadata": {},
   "outputs": [
    {
     "data": {
      "image/png": "[encoded data removed]",
      "text/plain": [
       "<Figure size 432x288 with 1 Axes>"
      ]
     },
     "metadata": {
      "needs_background": "light"
     },
     "output_type": "display_data"
    }
   ],
   "source": [
    "nodes_removed = [i * 1620 / 1622713 for i in range(100)]\n",
    "\n",
    "fig = plt.figure()\n",
    "ax = fig.add_subplot(1, 1, 1)\n",
    "ax.plot(nodes_removed, avg_sizes, color='r', label='Original')\n",
    "ax.plot(nodes_removed, size_avg, color='b', label='Rewired')\n",
    "ax.fill_between(nodes_removed, size_avg + size_std, size_avg - size_std, facecolor='blue', alpha=0.5)\n",
    "ax.legend(loc=\"upper right\")\n",
    "ax.set_xlabel('$p$')\n",
    "ax.set_ylabel('Average finite cluster size')\n",
    "plt.show()"
   ]
  },
  {
   "cell_type": "code",
   "execution_count": 17,
   "metadata": {},
   "outputs": [],
   "source": [
    "g_cc = get_graph()\n",
    "influential_nodes = get_influential_nodes(g_cc, reverse=False)\n",
    "sizes_original, _ = gt.vertex_percolation(g_cc, influential_nodes)"
   ]
  },
  {
   "cell_type": "code",
   "execution_count": 27,
   "metadata": {},
   "outputs": [
    {
     "name": "stdout",
     "output_type": "stream",
     "text": [
      "APPROX AREA: 0.006383821787992853\n"
     ]
    },
    {
     "data": {
      "image/png": "[encoded data removed]",
      "text/plain": [
       "<Figure size 432x288 with 1 Axes>"
      ]
     },
     "metadata": {
      "needs_background": "light"
     },
     "output_type": "display_data"
    }
   ],
   "source": [
    "nodes_removed = [i / 1622173 for i in range(162000)]\n",
    "sizes = [size / 1622173 for size in sizes]\n",
    "print(f'APPROX AREA: {approx_area(sizes)}')\n",
    "sizes = sizes[::-1][:162000]\n",
    "sizes_original = sizes\n",
    "\n",
    "fig = plt.figure()\n",
    "ax = fig.add_subplot(1, 1, 1)\n",
    "ax.plot(nodes_removed, sizes, color='r')\n",
    "ax.set_xlabel('Proportion of nodes removed')\n",
    "ax.set_ylabel('Normalized largest component size')\n",
    "plt.show()"
   ]
  },
  {
   "cell_type": "code",
   "execution_count": 13,
   "metadata": {},
   "outputs": [
    {
     "name": "stdout",
     "output_type": "stream",
     "text": [
      "AVG REWIRED R-INDEX: 0.010596969589020636\n",
      "AVG STD R-INDEX: 0.00013303431448973132\n"
     ]
    }
   ],
   "source": [
    "r_indices = []\n",
    "run_sizes = np.empty((0, 1622173))\n",
    "g_cc = get_graph()\n",
    "\n",
    "for run in range(100):\n",
    "    gt.random_rewire(g_cc, n_iter=2)\n",
    "    influential_nodes = get_influential_nodes(g_cc, reverse=False)\n",
    "    sizes, _ = gt.vertex_percolation(g_cc, influential_nodes)\n",
    "    max_size_rewire = len(list(gt.extract_largest_component(g_cc, directed=False).get_vertices()))\n",
    "    sizes = [size / max_size_rewire for size in sizes]\n",
    "    run_sizes = np.vstack((run_sizes, sizes))\n",
    "    r_indices.append(approx_area(sizes))\n",
    "    \n",
    "print(f'AVG REWIRED R-INDEX: {np.average(r_indices)}')\n",
    "print(f'AVG STD R-INDEX: {np.std(r_indices)}')"
   ]
  },
  {
   "cell_type": "code",
   "execution_count": 14,
   "metadata": {},
   "outputs": [],
   "source": [
    "size_avg = np.average(run_sizes, axis=0)\n",
    "size_std = np.std(run_sizes, axis=0)"
   ]
  },
  {
   "cell_type": "code",
   "execution_count": 18,
   "metadata": {},
   "outputs": [
    {
     "data": {
      "image/png": "[encoded data removed]",
      "text/plain": [
       "<Figure size 432x288 with 1 Axes>"
      ]
     },
     "metadata": {
      "needs_background": "light"
     },
     "output_type": "display_data"
    }
   ],
   "source": [
    "nodes_removed = [i / 1622173 for i in range(162000)]\n",
    "sizes = sizes_original[::-1][:162000]\n",
    "sizes = [size / 1622173 for size in sizes]\n",
    "size_avg = size_avg[::-1][:162000]\n",
    "size_std = size_std[::-1][:162000]\n",
    "\n",
    "fig = plt.figure()\n",
    "ax = fig.add_subplot(1, 1, 1)\n",
    "ax.plot(nodes_removed, sizes, color='r', label='Original')\n",
    "ax.plot(nodes_removed, size_avg, color='b', label='Rewired')\n",
    "ax.fill_between(nodes_removed, size_avg + 2 * size_std, size_avg - 2 * size_std, facecolor='blue', alpha=0.5)\n",
    "ax.legend(loc=\"upper right\")\n",
    "ax.set_xlabel('Proportion of nodes removed')\n",
    "ax.set_ylabel('Normalized largest component size')\n",
    "plt.show()"
   ]
  },
  {
   "cell_type": "code",
   "execution_count": 16,
   "metadata": {},
   "outputs": [
    {
     "data": {
      "text/plain": [
       "0.010588140490316717"
      ]
     },
     "execution_count": 16,
     "metadata": {},
     "output_type": "execute_result"
    }
   ],
   "source": [
    "np.average(r_indices)"
   ]
  },
  {
   "cell_type": "code",
   "execution_count": 17,
   "metadata": {},
   "outputs": [
    {
     "data": {
      "text/plain": [
       "0.0"
      ]
     },
     "execution_count": 17,
     "metadata": {},
     "output_type": "execute_result"
    }
   ],
   "source": [
    "kernel = scipy.stats.gaussian_kde(r_indices)\n",
    "kernel.integrate_box_1d(-np.inf, 0.006383821787992853)"
   ]
  },
  {
   "cell_type": "markdown",
   "metadata": {},
   "source": [
    "#### Closeness"
   ]
  },
  {
   "cell_type": "code",
   "execution_count": 83,
   "metadata": {},
   "outputs": [],
   "source": [
    "g_cc = get_graph_nk()"
   ]
  },
  {
   "cell_type": "code",
   "execution_count": 84,
   "metadata": {},
   "outputs": [],
   "source": [
    "closeness = nk.centrality.ApproxCloseness(g_cc, 5000).run()"
   ]
  },
  {
   "cell_type": "code",
   "execution_count": 87,
   "metadata": {},
   "outputs": [],
   "source": [
    "def close_attack(target, most_influential, delta_x=1620):\n",
    "    #most_influential = list(map(lambda x: x[0], sorted(centralities.ranking(), key = lambda k : k[1], reverse=True)))[:delta_x]\n",
    "    for node in most_influential[:delta_x]:\n",
    "        target.removeNode(node)\n",
    "    del most_influential[:delta_x]\n",
    "    return len(max(nk.components.WeaklyConnectedComponents(g_cc).run().getComponents(), key=len))\n",
    "\n",
    "\n",
    "def close_attack_avg(target, most_influential, delta_x=1620):\n",
    "    for node in most_influential[:delta_x]:\n",
    "        target.removeNode(node)\n",
    "    del most_influential[:delta_x]\n",
    "    return avg_size(target)\n",
    "    \n",
    "\n",
    "def avg_size(target):\n",
    "    total_nodes = target.numberOfNodes()\n",
    "    hist = np.array(list(nk.components.DynWeaklyConnectedComponents(g_cc).run().getComponentSizes().values()))\n",
    "    hist = np.sort(hist)[:-1]\n",
    "    numerator = np.sum(np.power(hist, 2) / total_nodes)\n",
    "    denominator = np.sum(hist / total_nodes)\n",
    "    return numerator / denominator"
   ]
  },
  {
   "cell_type": "code",
   "execution_count": 88,
   "metadata": {},
   "outputs": [],
   "source": [
    "avg_sizes = []\n",
    "most_influential = list(map(lambda x: x[0], sorted(closeness.ranking(), key = lambda k : k[1], reverse=True)))\n",
    "\n",
    "for i in range(1000):\n",
    "    avg_sizes.append(close_attack_avg(g_cc, most_influential))"
   ]
  },
  {
   "cell_type": "code",
   "execution_count": 89,
   "metadata": {},
   "outputs": [],
   "source": [
    "avg_sizes = np.array(avg_sizes)"
   ]
  },
  {
   "cell_type": "code",
   "execution_count": 90,
   "metadata": {},
   "outputs": [],
   "source": [
    "np.save('avg_size_closeness.npy', avg_sizes)"
   ]
  },
  {
   "cell_type": "code",
   "execution_count": null,
   "metadata": {},
   "outputs": [],
   "source": [
    "run_lengths = np.empty((0, 1000))\n",
    "\n",
    "for rewiring in range(15):\n",
    "    g_cc = get_graph()\n",
    "    gt.random_rewire(g_cc, n_iter=2)\n",
    "    g_cc.save('rewire.gt', fmt='gt')\n",
    "    g_cc = nk.readGraph('rewire.gt', nk.Format.GraphToolBinary)\n",
    "    closeness = nk.centrality.ApproxCloseness(g_cc, 5000).run()\n",
    "    most_influential = list(map(lambda x: x[0], sorted(closeness.ranking(), key = lambda k : k[1], reverse=True)))\n",
    "    print(f'REWIRE {rewiring}')\n",
    "    \n",
    "    lengths = []\n",
    "    NUM_RUNS = 1000\n",
    "    for i in range(NUM_RUNS):\n",
    "        lengths.append(close_attack_avg(g_cc, most_influential))\n",
    "    run_lengths = np.vstack((run_lengths, lengths))\n"
   ]
  },
  {
   "cell_type": "code",
   "execution_count": 95,
   "metadata": {},
   "outputs": [],
   "source": [
    "size_avg = np.average(run_lengths, axis=0)\n",
    "size_std = np.std(run_lengths, axis=0)"
   ]
  },
  {
   "cell_type": "code",
   "execution_count": 96,
   "metadata": {},
   "outputs": [],
   "source": [
    "size_avg -= np.min(size_avg)\n",
    "min_size = np.min(avg_sizes)\n",
    "avg_sizes = [size - min_size for size in avg_sizes]\n",
    "\n",
    "size_std = size_std / np.max(size_std)\n",
    "size_avg = size_avg / np.max(size_avg)\n",
    "max_size = np.max(avg_sizes)\n",
    "avg_sizes = [size / max_size for size in avg_sizes]"
   ]
  },
  {
   "cell_type": "code",
   "execution_count": 97,
   "metadata": {},
   "outputs": [
    {
     "data": {
      "image/png": "[encoded data removed]",
      "text/plain": [
       "<Figure size 432x288 with 1 Axes>"
      ]
     },
     "metadata": {
      "needs_background": "light"
     },
     "output_type": "display_data"
    }
   ],
   "source": [
    "nodes_removed = [i * 1620 / 1622713 for i in range(1000)]\n",
    "\n",
    "fig = plt.figure()\n",
    "ax = fig.add_subplot(1, 1, 1)\n",
    "ax.plot(nodes_removed, avg_sizes, color='r', label='Original')\n",
    "ax.plot(nodes_removed, size_avg, color='b', label='Rewired')\n",
    "ax.fill_between(nodes_removed, size_avg + size_std, size_avg - size_std, facecolor='blue', alpha=0.5)\n",
    "ax.legend(loc=\"upper right\")\n",
    "ax.set_xlabel('$p$')\n",
    "ax.set_ylabel('Average finite cluster size')\n",
    "plt.show()"
   ]
  },
  {
   "cell_type": "code",
   "execution_count": null,
   "metadata": {},
   "outputs": [],
   "source": [
    "avg_sizes = []\n",
    "\n",
    "for i in range(100):\n",
    "    sizes.append(close_attack(g_cc, most_influential))"
   ]
  },
  {
   "cell_type": "code",
   "execution_count": 91,
   "metadata": {},
   "outputs": [],
   "source": [
    "g_cc = get_graph()\n",
    "sizes_original, comp = gt.vertex_percolation(g_cc, most_influential)"
   ]
  },
  {
   "cell_type": "code",
   "execution_count": null,
   "metadata": {},
   "outputs": [],
   "source": [
    "g_cc = get_graph_nk()\n",
    "closeness = nk.centrality.ApproxCloseness(g_cc, 10000).run()\n",
    "print('CLOSENESS 1 COMPUTED')\n",
    "most_influential = list(map(lambda x: x[0], sorted(closeness.ranking(), key = lambda k : k[1], reverse=False)))\n",
    "g_cc = get_graph()\n",
    "sizes, comp = gt.vertex_percolation(g_cc, most_influential)\n",
    "print('PERCOLATION FOR REAL NETWORK COMPLETED.')"
   ]
  },
  {
   "cell_type": "code",
   "execution_count": 6,
   "metadata": {},
   "outputs": [],
   "source": [
    "def approx_area(sizes):\n",
    "    return sum(sizes) / (len(sizes) + 1)"
   ]
  },
  {
   "cell_type": "code",
   "execution_count": null,
   "metadata": {},
   "outputs": [],
   "source": [
    "r_indices = []\n",
    "run_sizes = np.empty((0, 1622173))\n",
    "g_cc = get_graph()\n",
    "\n",
    "for run in range(100):\n",
    "    gt.random_rewire(g_cc, n_iter=2)\n",
    "    g_cc.save('rewire.gt', fmt='gt')\n",
    "    g_cc = nk.readGraph('rewire.gt', nk.Format.GraphToolBinary)\n",
    "    closeness = nk.centrality.ApproxCloseness(g_cc, 10000).run()\n",
    "    most_influential = list(map(lambda x: x[0], sorted(closeness.ranking(), key = lambda k : k[1], reverse=False)))\n",
    "    g_cc = gt.load_graph('rewire.gt')\n",
    "    sizes_rewire, _ = gt.vertex_percolation(g_cc, most_influential)\n",
    "    max_size_rewire = len(list(gt.extract_largest_component(g_cc, directed=False).get_vertices()))\n",
    "    sizes = [size / max_size_rewire for size in sizes]\n",
    "    run_sizes = np.vstack((run_sizes, sizes))\n",
    "    r_indices.append(approx_area(sizes))\n",
    "    \n",
    "print(f'AVG REWIRED R-INDEX: {np.average(r_indices)}')\n",
    "print(f'AVG STD R-INDEX: {np.std(r_indices)}')"
   ]
  },
  {
   "cell_type": "code",
   "execution_count": null,
   "metadata": {},
   "outputs": [],
   "source": [
    "size_avg = np.average(run_sizes, axis=0)\n",
    "size_std = np.std(run_sizes, axis=0)"
   ]
  },
  {
   "cell_type": "code",
   "execution_count": null,
   "metadata": {},
   "outputs": [],
   "source": [
    "nodes_removed = [i / 1622173 for i in range(162000)]\n",
    "sizes = sizes_original[::-1]\n",
    "sizes = [size / 1622173 for size in sizes]\n",
    "size_avg = size_avg[::-1]\n",
    "size_std = size_std[::-1]\n",
    "\n",
    "fig = plt.figure()\n",
    "ax = fig.add_subplot(1, 1, 1)\n",
    "ax.plot(nodes_removed, sizes, color='r', label='Original')\n",
    "ax.plot(nodes_removed, size_avg, color='b', label='Rewired')\n",
    "ax.fill_between(nodes_removed, size_avg + 2 * size_std, size_avg - 2 * size_std, facecolor='blue', alpha=0.5)\n",
    "ax.legend(loc=\"upper right\")\n",
    "ax.set_xlabel('Proportion of nodes removed')\n",
    "ax.set_ylabel('Normalized largest component size')\n",
    "plt.show()"
   ]
  },
  {
   "cell_type": "code",
   "execution_count": null,
   "metadata": {},
   "outputs": [],
   "source": [
    "kernel = scipy.stats.gaussian_kde(r_indices)\n",
    "kernel.integrate_box_1d(-np.inf, approx_area(sizes))"
   ]
  },
  {
   "cell_type": "code",
   "execution_count": null,
   "metadata": {},
   "outputs": [],
   "source": [
    "print(approx_area(sizes))"
   ]
  },
  {
   "cell_type": "markdown",
   "metadata": {},
   "source": [
    "### Edge Percolation with Rewiring"
   ]
  },
  {
   "cell_type": "markdown",
   "metadata": {},
   "source": [
    "#### Random attack"
   ]
  },
  {
   "cell_type": "code",
   "execution_count": 19,
   "metadata": {},
   "outputs": [],
   "source": [
    "def get_rand_links(target, prop='c0'):\n",
    "    edges_rand = [(s, t) for s, t, _ in target.iter_edges([target.edge_properties[prop]])]\n",
    "    np.random.shuffle(edges_rand)\n",
    "    return edges_rand"
   ]
  },
  {
   "cell_type": "code",
   "execution_count": null,
   "metadata": {},
   "outputs": [],
   "source": [
    "g_cc = get_graph()\n",
    "num_edges = len(get_rand_links(g_cc))\n",
    "sizes, _ = gt.edge_percolation(g_cc, get_rand_links(g_cc))"
   ]
  },
  {
   "cell_type": "code",
   "execution_count": null,
   "metadata": {},
   "outputs": [],
   "source": [
    "r_indices = []\n",
    "r_indices_original = []\n",
    "run_sizes = np.empty((0, num_edges))\n",
    "run_sizes_original = np.empty((0, num_edges))\n",
    "\n",
    "for run in range(50):\n",
    "    sizes, _ = gt.edge_percolation(g_cc, get_rand_links(g_cc))\n",
    "    sizes = [size / 1622713 for size in sizes]\n",
    "    run_sizes_original = np.vstack((run_sizes, sizes))\n",
    "    r_indices_original.append(approx_area(sizes))\n",
    "\n",
    "for run in range(50):\n",
    "    gt.random_rewire(g_cc, n_iter=2)\n",
    "    sizes, _ = gt.edge_percolation(g_cc, get_rand_links(g_cc))\n",
    "    max_size_rewire = len(list(gt.extract_largest_component(g_cc, directed=False).get_vertices()))\n",
    "    sizes = [size / max_size_rewire for size in sizes]\n",
    "    run_sizes = np.vstack((run_sizes, sizes))\n",
    "    r_indices.append(approx_area(sizes))\n",
    "    \n",
    "print(f'AVG REWIRED R-INDEX: {np.average(r_indices)}')\n",
    "print(f'STD: {np.std(r_indices)}')\n",
    "\n",
    "print(f'AVG ORIGINAL R-INDEX: {np.average(r_indices_original)}')\n",
    "print(f'STD: {np.std(r_indices_original)}')"
   ]
  },
  {
   "cell_type": "code",
   "execution_count": null,
   "metadata": {},
   "outputs": [],
   "source": [
    "size_avg = np.average(run_sizes, axis=0)\n",
    "size_std = np.std(run_sizes, axis=0)\n",
    "\n",
    "size_avg_orig = np.average(run_sizes_original, axis=0)\n",
    "size_std_orig = np.std(run_sizes_original, axis=0)"
   ]
  },
  {
   "cell_type": "code",
   "execution_count": null,
   "metadata": {},
   "outputs": [],
   "source": [
    "nodes_removed = [i / 1622173 for i in range(num_edges)]\n",
    "size_avg_orig = size_avg_orig[::-1]\n",
    "size_std_orig = size_std_orig[::-1]\n",
    "size_avg = size_avg[::-1]\n",
    "size_std = size_std[::-1]\n",
    "\n",
    "fig = plt.figure()\n",
    "ax = fig.add_subplot(1, 1, 1)\n",
    "ax.plot(nodes_removed, size_avg_orig, color='r', label='Original')\n",
    "ax.fill_between(nodes_removed, size_avg_orig + 2 * size_std_orig, size_avg_orig - 2 * size_std_orig, facecolor='red', alpha=0.5)\n",
    "ax.plot(nodes_removed, size_avg, color='b', label='Rewired')\n",
    "ax.fill_between(nodes_removed, size_avg + 2 * size_std, size_avg - 2 * size_std, facecolor='blue', alpha=0.5)\n",
    "ax.legend(loc=\"upper right\")\n",
    "ax.set_xlabel('Proportion of nodes removed')\n",
    "ax.set_ylabel('Normalized largest component size')\n",
    "plt.show()"
   ]
  },
  {
   "cell_type": "code",
   "execution_count": 48,
   "metadata": {},
   "outputs": [
    {
     "data": {
      "text/plain": [
       "KstestResult(statistic=1.0, pvalue=2.2087606931995054e-59)"
      ]
     },
     "execution_count": 48,
     "metadata": {},
     "output_type": "execute_result"
    }
   ],
   "source": [
    "scipy.stats.ks_2samp(r_indices_original, r_indices)"
   ]
  },
  {
   "cell_type": "code",
   "execution_count": 50,
   "metadata": {},
   "outputs": [
    {
     "data": {
      "text/plain": [
       "KstestResult(statistic=0.0, pvalue=1.0)"
      ]
     },
     "execution_count": 50,
     "metadata": {},
     "output_type": "execute_result"
    }
   ],
   "source": [
    "scipy.stats.ks_2samp(r_indices_original, r_indices, alternative='greater')"
   ]
  },
  {
   "cell_type": "markdown",
   "metadata": {},
   "source": [
    "#### Strongest link (total)"
   ]
  },
  {
   "cell_type": "code",
   "execution_count": 6,
   "metadata": {},
   "outputs": [],
   "source": [
    "g_cc = get_graph()"
   ]
  },
  {
   "cell_type": "code",
   "execution_count": 3,
   "metadata": {},
   "outputs": [],
   "source": [
    "def get_weakest_links(target, prop='c0', reverse=False):\n",
    "    edge_totals = [(s, t, w) for s, t, w in g_cc.iter_edges([g_cc.edge_properties[prop]])]\n",
    "    edge_totals = sorted(edge_totals, key=lambda e: int(e[2]), reverse=reverse)\n",
    "    return [(s,t) for s, t, w in edge_totals]\n",
    "\n",
    "\n",
    "def approx_area(sizes):\n",
    "    return sum(sizes) / (len(sizes) + 1)"
   ]
  },
  {
   "cell_type": "code",
   "execution_count": 7,
   "metadata": {},
   "outputs": [],
   "source": [
    "num_edges = len(get_weakest_links(g_cc))"
   ]
  },
  {
   "cell_type": "code",
   "execution_count": null,
   "metadata": {},
   "outputs": [],
   "source": [
    "r_indices = []\n",
    "run_sizes = np.empty((0, num_edges))\n",
    "\n",
    "for run in range(50):\n",
    "    gt.random_rewire(g_cc, n_iter=2)\n",
    "    sizes, _ = gt.edge_percolation(g_cc, get_weakest_links(g_cc))\n",
    "    max_size_rewire = len(list(gt.extract_largest_component(g_cc, directed=False).get_vertices()))\n",
    "    sizes = [size / max_size_rewire for size in sizes]\n",
    "    run_sizes = np.vstack((run_sizes, sizes))\n",
    "    r_indices.append(approx_area(sizes))\n",
    "    \n",
    "print(f'AVG REWIRED R-INDEX: {np.average(r_indices)}')\n",
    "print(f'STD: {np.std(r_indices)}')"
   ]
  },
  {
   "cell_type": "code",
   "execution_count": 7,
   "metadata": {},
   "outputs": [],
   "source": [
    "g_cc = get_graph()\n",
    "sizes, _ = gt.edge_percolation(g_cc, get_weakest_links(g_cc))"
   ]
  },
  {
   "cell_type": "code",
   "execution_count": 9,
   "metadata": {},
   "outputs": [],
   "source": [
    "size_avg = np.average(run_sizes, axis=0)\n",
    "size_std = np.std(run_sizes, axis=0)"
   ]
  },
  {
   "cell_type": "code",
   "execution_count": 11,
   "metadata": {},
   "outputs": [
    {
     "data": {
      "image/png": "[encoded data removed]",
      "text/plain": [
       "<Figure size 432x288 with 1 Axes>"
      ]
     },
     "metadata": {
      "needs_background": "light"
     },
     "output_type": "display_data"
    }
   ],
   "source": [
    "nodes_removed = [i / 1622173 for i in range(num_edges)]\n",
    "sizes = sizes[::-1]\n",
    "sizes = [size / 1622173 for size in sizes]\n",
    "size_avg = size_avg[::-1]\n",
    "size_std = size_std[::-1]\n",
    "\n",
    "fig = plt.figure()\n",
    "ax = fig.add_subplot(1, 1, 1)\n",
    "ax.plot(nodes_removed, sizes, color='r', label='Original')\n",
    "ax.plot(nodes_removed, size_avg, color='b', label='Rewired')\n",
    "ax.fill_between(nodes_removed, size_avg + 2 * size_std, size_avg - 2 * size_std, facecolor='blue', alpha=0.5)\n",
    "ax.legend(loc=\"upper right\")\n",
    "ax.set_xlabel('Proportion of nodes removed')\n",
    "ax.set_ylabel('Normalized largest component size')\n",
    "plt.show()"
   ]
  },
  {
   "cell_type": "code",
   "execution_count": 20,
   "metadata": {},
   "outputs": [
    {
     "data": {
      "text/plain": [
       "0.6016941134633331"
      ]
     },
     "execution_count": 20,
     "metadata": {},
     "output_type": "execute_result"
    }
   ],
   "source": [
    "np.average(r_indices)"
   ]
  },
  {
   "cell_type": "code",
   "execution_count": null,
   "metadata": {},
   "outputs": [],
   "source": [
    "np.std(r_indices)"
   ]
  },
  {
   "cell_type": "code",
   "execution_count": 21,
   "metadata": {},
   "outputs": [
    {
     "data": {
      "text/plain": [
       "0.0"
      ]
     },
     "execution_count": 21,
     "metadata": {},
     "output_type": "execute_result"
    }
   ],
   "source": [
    "kernel = scipy.stats.gaussian_kde(r_indices)\n",
    "kernel.integrate_box_1d(approx_area(sizes), np.inf)"
   ]
  },
  {
   "cell_type": "markdown",
   "metadata": {},
   "source": [
    "#### Strongest link (count)"
   ]
  },
  {
   "cell_type": "code",
   "execution_count": 12,
   "metadata": {},
   "outputs": [],
   "source": [
    "g_cc = get_graph()"
   ]
  },
  {
   "cell_type": "code",
   "execution_count": null,
   "metadata": {},
   "outputs": [],
   "source": [
    "r_indices = []\n",
    "run_sizes = np.empty((0, num_edges))\n",
    "\n",
    "for run in range(50):\n",
    "    gt.random_rewire(g_cc, n_iter=2)\n",
    "    sizes, _ = gt.edge_percolation(g_cc, get_weakest_links(g_cc, prop='c1'))\n",
    "    max_size_rewire = len(list(gt.extract_largest_component(g_cc, directed=False).get_vertices()))\n",
    "    sizes = [size / max_size_rewire for size in sizes]\n",
    "    run_sizes = np.vstack((run_sizes, sizes))\n",
    "    r_indices.append(approx_area(sizes))\n",
    "    \n",
    "print(f'AVG REWIRED R-INDEX: {np.average(r_indices)}')\n",
    "print(f'STD: {np.std(r_indices)}')\n",
    "\n",
    "g_cc = get_graph()\n",
    "sizes, _ = gt.edge_percolation(g_cc, get_weakest_links(g_cc, prop='c1'))"
   ]
  },
  {
   "cell_type": "code",
   "execution_count": null,
   "metadata": {},
   "outputs": [],
   "source": [
    "size_avg = np.average(run_sizes, axis=0)\n",
    "size_std = np.std(run_sizes, axis=0)"
   ]
  },
  {
   "cell_type": "code",
   "execution_count": null,
   "metadata": {},
   "outputs": [],
   "source": [
    "nodes_removed = [i / 1622173 for i in range(num_edges)]\n",
    "sizes = sizes[::-1]\n",
    "sizes = [size / 1622173 for size in sizes]\n",
    "size_avg = size_avg[::-1]\n",
    "size_std = size_std[::-1]\n",
    "\n",
    "fig = plt.figure()\n",
    "ax = fig.add_subplot(1, 1, 1)\n",
    "ax.plot(nodes_removed, sizes, color='r', label='Original')\n",
    "ax.plot(nodes_removed, size_avg, color='b', label='Rewired')\n",
    "ax.fill_between(nodes_removed, size_avg + 2 * size_std, size_avg - 2 * size_std, facecolor='blue', alpha=0.5)\n",
    "ax.legend(loc=\"upper right\")\n",
    "ax.set_xlabel('Proportion of nodes removed')\n",
    "ax.set_ylabel('Normalized largest component size')\n",
    "plt.show()"
   ]
  },
  {
   "cell_type": "code",
   "execution_count": 24,
   "metadata": {},
   "outputs": [
    {
     "data": {
      "text/plain": [
       "0.0"
      ]
     },
     "execution_count": 24,
     "metadata": {},
     "output_type": "execute_result"
    }
   ],
   "source": [
    "kernel = scipy.stats.gaussian_kde(r_indices)\n",
    "kernel.integrate_box_1d(approx_area(sizes), np.inf)"
   ]
  },
  {
   "cell_type": "markdown",
   "metadata": {},
   "source": [
    "#### Weakest link (total)"
   ]
  },
  {
   "cell_type": "code",
   "execution_count": 66,
   "metadata": {},
   "outputs": [],
   "source": [
    "g_cc = get_graph()"
   ]
  },
  {
   "cell_type": "code",
   "execution_count": null,
   "metadata": {},
   "outputs": [],
   "source": [
    "r_indices = []\n",
    "run_sizes = np.empty((0, num_edges))\n",
    "\n",
    "for run in range(50):\n",
    "    gt.random_rewire(g_cc, n_iter=2)\n",
    "    sizes, _ = gt.edge_percolation(g_cc, get_weakest_links(g_cc, prop='c0', reverse=True))\n",
    "    max_size_rewire = len(list(gt.extract_largest_component(g_cc, directed=False).get_vertices()))\n",
    "    sizes = [size / max_size_rewire for size in sizes]\n",
    "    run_sizes = np.vstack((run_sizes, sizes))\n",
    "    r_indices.append(approx_area(sizes))\n",
    "    \n",
    "print(f'AVG REWIRED R-INDEX: {np.average(r_indices)}')\n",
    "print(f'STD: {np.std(r_indices)}')\n",
    "\n",
    "g_cc = get_graph()\n",
    "sizes, _ = gt.edge_percolation(g_cc, get_weakest_links(g_cc, prop='c0', reverse=True))"
   ]
  },
  {
   "cell_type": "code",
   "execution_count": null,
   "metadata": {},
   "outputs": [],
   "source": [
    "size_avg = np.average(run_sizes, axis=0)\n",
    "size_std = np.std(run_sizes, axis=0)"
   ]
  },
  {
   "cell_type": "code",
   "execution_count": null,
   "metadata": {},
   "outputs": [],
   "source": [
    "nodes_removed = [i / 1622173 for i in range(num_edges)]\n",
    "sizes = sizes[::-1]\n",
    "sizes = [size / 1622173 for size in sizes]\n",
    "size_avg = size_avg[::-1]\n",
    "size_std = size_std[::-1]\n",
    "\n",
    "fig = plt.figure()\n",
    "ax = fig.add_subplot(1, 1, 1)\n",
    "ax.plot(nodes_removed, sizes, color='r', label='Original')\n",
    "ax.plot(nodes_removed, size_avg, color='b', label='Rewired')\n",
    "ax.fill_between(nodes_removed, size_avg + 2 * size_std, size_avg - 2 * size_std, facecolor='blue', alpha=0.5)\n",
    "ax.legend(loc=\"upper right\")\n",
    "ax.set_xlabel('Proportion of nodes removed')\n",
    "ax.set_ylabel('Normalized largest component size')\n",
    "plt.show()"
   ]
  },
  {
   "cell_type": "code",
   "execution_count": 27,
   "metadata": {},
   "outputs": [
    {
     "data": {
      "text/plain": [
       "0.0"
      ]
     },
     "execution_count": 27,
     "metadata": {},
     "output_type": "execute_result"
    }
   ],
   "source": [
    "kernel = scipy.stats.gaussian_kde(r_indices)\n",
    "kernel.integrate_box_1d(approx_area(sizes), np.inf)"
   ]
  },
  {
   "cell_type": "markdown",
   "metadata": {},
   "source": [
    "#### Weakest link (count)"
   ]
  },
  {
   "cell_type": "code",
   "execution_count": 69,
   "metadata": {},
   "outputs": [],
   "source": [
    "g_cc = get_graph()"
   ]
  },
  {
   "cell_type": "code",
   "execution_count": null,
   "metadata": {},
   "outputs": [],
   "source": [
    "r_indices = []\n",
    "run_sizes = np.empty((0, num_edges))\n",
    "\n",
    "for run in range(50):\n",
    "    gt.random_rewire(g_cc, n_iter=2)\n",
    "    sizes, _ = gt.edge_percolation(g_cc, get_weakest_links(g_cc, prop='c1', reverse=True))\n",
    "    max_size_rewire = len(list(gt.extract_largest_component(g_cc, directed=False).get_vertices()))\n",
    "    sizes = [size / max_size_rewire for size in sizes]\n",
    "    run_sizes = np.vstack((run_sizes, sizes))\n",
    "    r_indices.append(approx_area(sizes))\n",
    "    \n",
    "print(f'AVG REWIRED R-INDEX: {np.average(r_indices)}')\n",
    "print(f'STD: {np.std(r_indices)}')\n",
    "\n",
    "g_cc = get_graph()\n",
    "sizes, _ = gt.edge_percolation(g_cc, get_weakest_links(g_cc, prop='c1', reverse=True))"
   ]
  },
  {
   "cell_type": "code",
   "execution_count": null,
   "metadata": {},
   "outputs": [],
   "source": [
    "size_avg = np.average(run_sizes, axis=0)\n",
    "size_std = np.std(run_sizes, axis=0)"
   ]
  },
  {
   "cell_type": "code",
   "execution_count": null,
   "metadata": {},
   "outputs": [],
   "source": [
    "nodes_removed = [i / 1622173 for i in range(num_edges)]\n",
    "sizes = sizes[::-1]\n",
    "sizes = [size / 1622173 for size in sizes]\n",
    "size_avg = size_avg[::-1]\n",
    "size_std = size_std[::-1]\n",
    "\n",
    "fig = plt.figure()\n",
    "ax = fig.add_subplot(1, 1, 1)\n",
    "ax.plot(nodes_removed, sizes, color='r', label='Original')\n",
    "ax.plot(nodes_removed, size_avg, color='b', label='Rewired')\n",
    "ax.fill_between(nodes_removed, size_avg + 2 * size_std, size_avg - 2 * size_std, facecolor='blue', alpha=0.5)\n",
    "ax.legend(loc=\"upper right\")\n",
    "ax.set_xlabel('Proportion of nodes removed')\n",
    "ax.set_ylabel('Normalized largest component size')\n",
    "plt.show()"
   ]
  },
  {
   "cell_type": "code",
   "execution_count": 30,
   "metadata": {},
   "outputs": [
    {
     "data": {
      "text/plain": [
       "0.0"
      ]
     },
     "execution_count": 30,
     "metadata": {},
     "output_type": "execute_result"
    }
   ],
   "source": [
    "kernel = scipy.stats.gaussian_kde(r_indices)\n",
    "kernel.integrate_box_1d(0.5145684420692376, np.inf)"
   ]
  },
  {
   "cell_type": "markdown",
   "metadata": {},
   "source": [
    "#### Links with weight closest to average (total)"
   ]
  },
  {
   "cell_type": "code",
   "execution_count": 9,
   "metadata": {},
   "outputs": [],
   "source": [
    "g_cc = get_graph()"
   ]
  },
  {
   "cell_type": "code",
   "execution_count": 7,
   "metadata": {},
   "outputs": [],
   "source": [
    "def get_average_links(target, prop='c0', reverse=False):\n",
    "    weights = [int(w) for s, t, w in g_cc.iter_edges([g_cc.edge_properties[prop]])]\n",
    "    avg_weight = sum(weights) / len(weights)\n",
    "    del weights\n",
    "    edges = [(s, t, int(w)) for s, t, w in g_cc.iter_edges([g_cc.edge_properties[prop]])]\n",
    "    edges = sorted(edges, key=lambda e: abs(e[2] - avg_weight), reverse=reverse)\n",
    "    return [(s, t) for s, t, w in edges]"
   ]
  },
  {
   "cell_type": "code",
   "execution_count": null,
   "metadata": {},
   "outputs": [],
   "source": [
    "r_indices = []\n",
    "run_sizes = np.empty((0, num_edges))\n",
    "\n",
    "for run in range(50):\n",
    "    gt.random_rewire(g_cc, n_iter=2)\n",
    "    sizes, _ = gt.edge_percolation(g_cc, get_average_links(g_cc, prop='c0', reverse=True))\n",
    "    max_size_rewire = len(list(gt.extract_largest_component(g_cc, directed=False).get_vertices()))\n",
    "    sizes = [size / max_size_rewire for size in sizes]\n",
    "    run_sizes = np.vstack((run_sizes, sizes))\n",
    "    r_indices.append(approx_area(sizes))\n",
    "    \n",
    "print(f'AVG REWIRED R-INDEX: {np.average(r_indices)}')\n",
    "print(f'STD: {np.std(r_indices)}')\n",
    "\n",
    "g_cc = get_graph()\n",
    "sizes, _ = gt.edge_percolation(g_cc, get_average_links(g_cc, prop='c0', reverse=True))"
   ]
  },
  {
   "cell_type": "code",
   "execution_count": null,
   "metadata": {},
   "outputs": [],
   "source": [
    "size_avg = np.average(run_sizes, axis=0)\n",
    "size_std = np.std(run_sizes, axis=0)"
   ]
  },
  {
   "cell_type": "code",
   "execution_count": null,
   "metadata": {},
   "outputs": [],
   "source": [
    "nodes_removed = [i / 1622173 for i in range(num_edges)]\n",
    "sizes = sizes[::-1]\n",
    "sizes = [size / 1622173 for size in sizes]\n",
    "size_avg = size_avg[::-1]\n",
    "size_std = size_std[::-1]\n",
    "\n",
    "fig = plt.figure()\n",
    "ax = fig.add_subplot(1, 1, 1)\n",
    "ax.plot(nodes_removed, sizes, color='r', label='Original')\n",
    "ax.plot(nodes_removed, size_avg, color='b', label='Rewired')\n",
    "ax.fill_between(nodes_removed, size_avg + 2 * size_std, size_avg - 2 * size_std, facecolor='blue', alpha=0.5)\n",
    "ax.legend(loc=\"upper right\")\n",
    "ax.set_xlabel('Proportion of nodes removed')\n",
    "ax.set_ylabel('Normalized largest component size')\n",
    "plt.show()"
   ]
  },
  {
   "cell_type": "code",
   "execution_count": 34,
   "metadata": {},
   "outputs": [
    {
     "data": {
      "text/plain": [
       "0.0"
      ]
     },
     "execution_count": 34,
     "metadata": {},
     "output_type": "execute_result"
    }
   ],
   "source": [
    "kernel = scipy.stats.gaussian_kde(r_indices)\n",
    "kernel.integrate_box_1d(approx_area(sizes), np.inf)"
   ]
  },
  {
   "cell_type": "markdown",
   "metadata": {},
   "source": [
    "#### Links with weight closest to average (count)"
   ]
  },
  {
   "cell_type": "code",
   "execution_count": 83,
   "metadata": {},
   "outputs": [],
   "source": [
    "g_cc = get_graph()"
   ]
  },
  {
   "cell_type": "code",
   "execution_count": null,
   "metadata": {},
   "outputs": [],
   "source": [
    "r_indices = []\n",
    "run_sizes = np.empty((0, num_edges))\n",
    "\n",
    "for run in range(50):\n",
    "    gt.random_rewire(g_cc, n_iter=2)\n",
    "    sizes, _ = gt.edge_percolation(g_cc, get_average_links(g_cc, prop='c1', reverse=True))\n",
    "    max_size_rewire = len(list(gt.extract_largest_component(g_cc, directed=False).get_vertices()))\n",
    "    sizes = [size / max_size_rewire for size in sizes]\n",
    "    run_sizes = np.vstack((run_sizes, sizes))\n",
    "    r_indices.append(approx_area(sizes))\n",
    "    \n",
    "print(f'AVG REWIRED R-INDEX: {np.average(r_indices)}')\n",
    "print(f'STD: {np.std(r_indices)}')\n",
    "\n",
    "g_cc = get_graph()\n",
    "sizes, _ = gt.edge_percolation(g_cc, get_average_links(g_cc, prop='c1', reverse=True))"
   ]
  },
  {
   "cell_type": "code",
   "execution_count": null,
   "metadata": {},
   "outputs": [],
   "source": [
    "size_avg = np.average(run_sizes, axis=0)\n",
    "size_std = np.std(run_sizes, axis=0)"
   ]
  },
  {
   "cell_type": "code",
   "execution_count": null,
   "metadata": {},
   "outputs": [],
   "source": [
    "nodes_removed = [i / 1622173 for i in range(num_edges)]\n",
    "sizes = sizes[::-1]\n",
    "sizes = [size / 1622173 for size in sizes]\n",
    "size_avg = size_avg[::-1]\n",
    "size_std = size_std[::-1]\n",
    "\n",
    "fig = plt.figure()\n",
    "ax = fig.add_subplot(1, 1, 1)\n",
    "ax.plot(nodes_removed, sizes, color='r', label='Original')\n",
    "ax.plot(nodes_removed, size_avg, color='b', label='Rewired')\n",
    "ax.fill_between(nodes_removed, size_avg + 2 * size_std, size_avg - 2 * size_std, facecolor='blue', alpha=0.5)\n",
    "ax.legend(loc=\"upper right\")\n",
    "ax.set_xlabel('Proportion of nodes removed')\n",
    "ax.set_ylabel('Normalized largest component size')\n",
    "plt.show()"
   ]
  },
  {
   "cell_type": "code",
   "execution_count": 37,
   "metadata": {},
   "outputs": [
    {
     "data": {
      "text/plain": [
       "0.0"
      ]
     },
     "execution_count": 37,
     "metadata": {},
     "output_type": "execute_result"
    }
   ],
   "source": [
    "kernel = scipy.stats.gaussian_kde(r_indices)\n",
    "kernel.integrate_box_1d(approx_area(sizes), np.inf)"
   ]
  },
  {
   "cell_type": "markdown",
   "metadata": {},
   "source": [
    "#### Links with weight furthest from average (total)"
   ]
  },
  {
   "cell_type": "code",
   "execution_count": 24,
   "metadata": {},
   "outputs": [],
   "source": [
    "g_cc = get_graph()"
   ]
  },
  {
   "cell_type": "code",
   "execution_count": 8,
   "metadata": {},
   "outputs": [],
   "source": [
    "num_edges = len(get_average_links(g_cc, prop='c0', reverse=False))"
   ]
  },
  {
   "cell_type": "code",
   "execution_count": null,
   "metadata": {},
   "outputs": [],
   "source": [
    "r_indices = []\n",
    "run_sizes = np.empty((0, num_edges))\n",
    "\n",
    "for run in range(50):\n",
    "    gt.random_rewire(g_cc, n_iter=2)\n",
    "    sizes, _ = gt.edge_percolation(g_cc, get_average_links(g_cc, prop='c0', reverse=False))\n",
    "    max_size_rewire = len(list(gt.extract_largest_component(g_cc, directed=False).get_vertices()))\n",
    "    sizes = [size / max_size_rewire for size in sizes]\n",
    "    run_sizes = np.vstack((run_sizes, sizes))\n",
    "    r_indices.append(approx_area(sizes))\n",
    "    \n",
    "print(f'AVG REWIRED R-INDEX: {np.average(r_indices)}')\n",
    "print(f'STD: {np.std(r_indices)}')\n",
    "\n",
    "g_cc = get_graph()\n",
    "sizes, _ = gt.edge_percolation(g_cc, get_average_links(g_cc, prop='c0', reverse=False))"
   ]
  },
  {
   "cell_type": "code",
   "execution_count": null,
   "metadata": {},
   "outputs": [],
   "source": [
    "size_avg = np.average(run_sizes, axis=0)\n",
    "size_std = np.std(run_sizes, axis=0)"
   ]
  },
  {
   "cell_type": "code",
   "execution_count": null,
   "metadata": {},
   "outputs": [],
   "source": [
    "nodes_removed = [i / 1622173 for i in range(num_edges)]\n",
    "sizes = sizes[::-1]\n",
    "sizes = [size / 1622173 for size in sizes]\n",
    "size_avg = size_avg[::-1]\n",
    "size_std = size_std[::-1]\n",
    "\n",
    "fig = plt.figure()\n",
    "ax = fig.add_subplot(1, 1, 1)\n",
    "ax.plot(nodes_removed, sizes, color='r', label='Original')\n",
    "ax.plot(nodes_removed, size_avg, color='b', label='Rewired')\n",
    "ax.fill_between(nodes_removed, size_avg + 2 * size_std, size_avg - 2 * size_std, facecolor='blue', alpha=0.5)\n",
    "ax.legend(loc=\"upper right\")\n",
    "ax.set_xlabel('Proportion of nodes removed')\n",
    "ax.set_ylabel('Normalized largest component size')\n",
    "plt.show()"
   ]
  },
  {
   "cell_type": "code",
   "execution_count": 40,
   "metadata": {},
   "outputs": [
    {
     "data": {
      "text/plain": [
       "0.0"
      ]
     },
     "execution_count": 40,
     "metadata": {},
     "output_type": "execute_result"
    }
   ],
   "source": [
    "kernel = scipy.stats.gaussian_kde(r_indices)\n",
    "kernel.integrate_box_1d(approx_area(sizes), np.inf)"
   ]
  },
  {
   "cell_type": "markdown",
   "metadata": {},
   "source": [
    "#### Links with weight furthest from average (count)"
   ]
  },
  {
   "cell_type": "code",
   "execution_count": 4,
   "metadata": {},
   "outputs": [],
   "source": [
    "g_cc = get_graph()"
   ]
  },
  {
   "cell_type": "code",
   "execution_count": null,
   "metadata": {},
   "outputs": [],
   "source": [
    "r_indices = []\n",
    "run_sizes = np.empty((0, num_edges))\n",
    "\n",
    "for run in range(50):\n",
    "    gt.random_rewire(g_cc, n_iter=2)\n",
    "    sizes, _ = gt.edge_percolation(g_cc, get_average_links(g_cc, prop='c1', reverse=False))\n",
    "    max_size_rewire = len(list(gt.extract_largest_component(g_cc, directed=False).get_vertices()))\n",
    "    sizes = [size / max_size_rewire for size in sizes]\n",
    "    run_sizes = np.vstack((run_sizes, sizes))\n",
    "    r_indices.append(approx_area(sizes))\n",
    "    \n",
    "print(f'AVG REWIRED R-INDEX: {np.average(r_indices)}')\n",
    "print(f'STD: {np.std(r_indices)}')\n",
    "\n",
    "g_cc = get_graph()\n",
    "sizes, _ = gt.edge_percolation(g_cc, get_average_links(g_cc, prop='c1', reverse=False))"
   ]
  },
  {
   "cell_type": "code",
   "execution_count": null,
   "metadata": {},
   "outputs": [],
   "source": [
    "size_avg = np.average(run_sizes, axis=0)\n",
    "size_std = np.std(run_sizes, axis=0)"
   ]
  },
  {
   "cell_type": "code",
   "execution_count": null,
   "metadata": {},
   "outputs": [],
   "source": [
    "nodes_removed = [i / 1622173 for i in range(num_edges)]\n",
    "sizes = sizes[::-1]\n",
    "sizes = [size / 1622173 for size in sizes]\n",
    "size_avg = size_avg[::-1]\n",
    "size_std = size_std[::-1]\n",
    "\n",
    "fig = plt.figure()\n",
    "ax = fig.add_subplot(1, 1, 1)\n",
    "ax.plot(nodes_removed, sizes, color='r', label='Original')\n",
    "ax.plot(nodes_removed, size_avg, color='b', label='Rewired')\n",
    "ax.fill_between(nodes_removed, size_avg + 2 * size_std, size_avg - 2 * size_std, facecolor='blue', alpha=0.5)\n",
    "ax.legend(loc=\"upper right\")\n",
    "ax.set_xlabel('Proportion of nodes removed')\n",
    "ax.set_ylabel('Normalized largest component size')\n",
    "plt.show()"
   ]
  },
  {
   "cell_type": "code",
   "execution_count": null,
   "metadata": {},
   "outputs": [],
   "source": [
    "kernel = scipy.stats.gaussian_kde(r_indices)\n",
    "kernel.integrate_box_1d(approx_area(sizes), np.inf)"
   ]
  },
  {
   "cell_type": "markdown",
   "metadata": {},
   "source": [
    "#### Similarity and Dissimilarity Attack"
   ]
  },
  {
   "cell_type": "code",
   "execution_count": 6,
   "metadata": {},
   "outputs": [],
   "source": [
    "g_cc = get_graph()"
   ]
  },
  {
   "cell_type": "code",
   "execution_count": 17,
   "metadata": {},
   "outputs": [],
   "source": [
    "def get_similar_links(target, beta=0.001, reverse=False):\n",
    "    return sorted([(e.source(), e.target()) for e in target.edges()],\n",
    "                   key=lambda e: np.exp(-1 * beta * np.power((e[0].in_degree() + e[0].out_degree()) - (e[1].out_degree() + e[1].in_degree()), 2)),\n",
    "                   reverse=reverse)"
   ]
  },
  {
   "cell_type": "code",
   "execution_count": 8,
   "metadata": {},
   "outputs": [],
   "source": [
    "num_edges = len(get_similar_links(g_cc))"
   ]
  },
  {
   "cell_type": "code",
   "execution_count": null,
   "metadata": {},
   "outputs": [],
   "source": [
    "r_indices = []\n",
    "run_sizes = np.empty((0, num_edges))\n",
    "\n",
    "for run in range(50):\n",
    "    gt.random_rewire(g_cc, n_iter=2)\n",
    "    sizes, _ = gt.edge_percolation(g_cc, get_similar_links(g_cc, reverse=False))\n",
    "    max_size_rewire = len(list(gt.extract_largest_component(g_cc, directed=False).get_vertices()))\n",
    "    sizes = [size / max_size_rewire for size in sizes]\n",
    "    run_sizes = np.vstack((run_sizes, sizes))\n",
    "    r_indices.append(approx_area(sizes))\n",
    "    \n",
    "print(f'AVG REWIRED R-INDEX: {np.average(r_indices)}')\n",
    "print(f'STD: {np.std(r_indices)}')\n",
    "\n",
    "g_cc = get_graph()\n",
    "sizes, _ = gt.edge_percolation(g_cc, get_similar_links(g_cc, reverse=False))"
   ]
  },
  {
   "cell_type": "code",
   "execution_count": null,
   "metadata": {},
   "outputs": [],
   "source": [
    "size_avg = np.average(run_sizes, axis=0)\n",
    "size_std = np.std(run_sizes, axis=0)"
   ]
  },
  {
   "cell_type": "code",
   "execution_count": null,
   "metadata": {},
   "outputs": [],
   "source": [
    "nodes_removed = [i / 1622173 for i in range(num_edges)]\n",
    "sizes = sizes[::-1]\n",
    "sizes = [size / 1622173 for size in sizes]\n",
    "size_avg = size_avg[::-1]\n",
    "size_std = size_std[::-1]\n",
    "\n",
    "fig = plt.figure()\n",
    "ax = fig.add_subplot(1, 1, 1)\n",
    "ax.plot(nodes_removed, sizes, color='r', label='Original')\n",
    "ax.plot(nodes_removed, size_avg, color='b', label='Rewired')\n",
    "ax.fill_between(nodes_removed, size_avg + 2 * size_std, size_avg - 2 * size_std, facecolor='blue', alpha=0.5)\n",
    "ax.legend(loc=\"upper right\")\n",
    "ax.set_xlabel('Proportion of nodes removed')\n",
    "ax.set_ylabel('Normalized largest component size')\n",
    "plt.show()"
   ]
  },
  {
   "cell_type": "code",
   "execution_count": null,
   "metadata": {},
   "outputs": [],
   "source": [
    "kernel = scipy.stats.gaussian_kde(r_indices)\n",
    "kernel.integrate_box_1d(approx_area(sizes), np.inf)"
   ]
  },
  {
   "cell_type": "code",
   "execution_count": 18,
   "metadata": {},
   "outputs": [],
   "source": [
    "g_cc = get_graph()"
   ]
  },
  {
   "cell_type": "code",
   "execution_count": null,
   "metadata": {},
   "outputs": [],
   "source": [
    "r_indices = []\n",
    "run_sizes = np.empty((0, num_edges))\n",
    "\n",
    "for run in range(50):\n",
    "    gt.random_rewire(g_cc, n_iter=2)\n",
    "    sizes, _ = gt.edge_percolation(g_cc, get_similar_links(g_cc, reverse=True))\n",
    "    max_size_rewire = len(list(gt.extract_largest_component(g_cc, directed=False).get_vertices()))\n",
    "    sizes = [size / max_size_rewire for size in sizes]\n",
    "    run_sizes = np.vstack((run_sizes, sizes))\n",
    "    r_indices.append(approx_area(sizes))\n",
    "    \n",
    "print(f'AVG REWIRED R-INDEX: {np.average(r_indices)}')\n",
    "print(f'STD: {np.std(r_indices)}')\n",
    "\n",
    "g_cc = get_graph()\n",
    "sizes, _ = gt.edge_percolation(g_cc, get_similar_links(g_cc, reverse=True))"
   ]
  },
  {
   "cell_type": "code",
   "execution_count": null,
   "metadata": {},
   "outputs": [],
   "source": [
    "size_avg = np.average(run_sizes, axis=0)\n",
    "size_std = np.std(run_sizes, axis=0)"
   ]
  },
  {
   "cell_type": "code",
   "execution_count": null,
   "metadata": {},
   "outputs": [],
   "source": [
    "nodes_removed = [i / 1622173 for i in range(num_edges)]\n",
    "sizes = sizes[::-1]\n",
    "sizes = [size / 1622173 for size in sizes]\n",
    "size_avg = size_avg[::-1]\n",
    "size_std = size_std[::-1]\n",
    "\n",
    "fig = plt.figure()\n",
    "ax = fig.add_subplot(1, 1, 1)\n",
    "ax.plot(nodes_removed, sizes, color='r', label='Original')\n",
    "ax.plot(nodes_removed, size_avg, color='b', label='Rewired')\n",
    "ax.fill_between(nodes_removed, size_avg + 2 * size_std, size_avg - 2 * size_std, facecolor='blue', alpha=0.5)\n",
    "ax.legend(loc=\"upper right\")\n",
    "ax.set_xlabel('Proportion of nodes removed')\n",
    "ax.set_ylabel('Normalized largest component size')\n",
    "plt.show()"
   ]
  },
  {
   "cell_type": "code",
   "execution_count": null,
   "metadata": {},
   "outputs": [],
   "source": [
    "kernel = scipy.stats.gaussian_kde(r_indices)\n",
    "kernel.integrate_box_1d(approx_area(sizes), np.inf)"
   ]
  },
  {
   "cell_type": "code",
   "execution_count": 35,
   "metadata": {},
   "outputs": [
    {
     "data": {
      "text/plain": [
       "(-0.01971995992878063, 2.8384251858250297e-05)"
      ]
     },
     "execution_count": 35,
     "metadata": {},
     "output_type": "execute_result"
    }
   ],
   "source": [
    "gt.assortativity(g_cc, 'total')"
   ]
  },
  {
   "cell_type": "code",
   "execution_count": 43,
   "metadata": {},
   "outputs": [
    {
     "data": {
      "text/plain": [
       "(0.0014765077829610768, 0.0005058835537482355)"
      ]
     },
     "execution_count": 43,
     "metadata": {},
     "output_type": "execute_result"
    }
   ],
   "source": [
    "gt.global_clustering(g_cc)"
   ]
  },
  {
   "cell_type": "code",
   "execution_count": 48,
   "metadata": {},
   "outputs": [
    {
     "data": {
      "text/plain": [
       "76812"
      ]
     },
     "execution_count": 48,
     "metadata": {},
     "output_type": "execute_result"
    }
   ],
   "source": [
    "gt.random_rewire(g_cc)"
   ]
  },
  {
   "cell_type": "code",
   "execution_count": 41,
   "metadata": {},
   "outputs": [
    {
     "data": {
      "text/plain": [
       "(-0.00023743823470584867, 6.459676178374083e-05)"
      ]
     },
     "execution_count": 41,
     "metadata": {},
     "output_type": "execute_result"
    }
   ],
   "source": [
    "gt.assortativity(g_cc, 'total')"
   ]
  },
  {
   "cell_type": "code",
   "execution_count": 47,
   "metadata": {},
   "outputs": [
    {
     "data": {
      "text/plain": [
       "(0.005084438677866588, 0.0014912761370327887)"
      ]
     },
     "execution_count": 47,
     "metadata": {},
     "output_type": "execute_result"
    }
   ],
   "source": [
    "gt.global_clustering(g_cc)"
   ]
  },
  {
   "cell_type": "code",
   "execution_count": 49,
   "metadata": {},
   "outputs": [
    {
     "data": {
      "text/plain": [
       "(0.005106915219421393, 0.0014949938851700295)"
      ]
     },
     "execution_count": 49,
     "metadata": {},
     "output_type": "execute_result"
    }
   ],
   "source": [
    "gt.global_clustering(g_cc)"
   ]
  },
  {
   "cell_type": "markdown",
   "metadata": {},
   "source": [
    "#### Centrality Attack (Total)"
   ]
  },
  {
   "cell_type": "code",
   "execution_count": 49,
   "metadata": {},
   "outputs": [],
   "source": [
    "g_cc = get_graph()"
   ]
  },
  {
   "cell_type": "code",
   "execution_count": null,
   "metadata": {},
   "outputs": [],
   "source": [
    "r_indices = []\n",
    "run_sizes = np.empty((0, num_edges))\n",
    "\n",
    "for run in range(50):\n",
    "    gt.random_rewire(g_cc, n_iter=2)\n",
    "    sizes, _ = gt.edge_percolation(g_cc, sorted([(e.source(), e.target()) for e in g_cc.edges()], reverse=True,\n",
    "                                            key=lambda e: (e[0].out_degree() + e[0].in_degree()) * (e[1].out_degree() + e[1].in_degree())))\n",
    "    max_size_rewire = len(list(gt.extract_largest_component(g_cc, directed=False).get_vertices()))\n",
    "    sizes = [size / max_size_rewire for size in sizes]\n",
    "    run_sizes = np.vstack((run_sizes, sizes))\n",
    "    r_indices.append(approx_area(sizes))\n",
    "    \n",
    "g_cc = get_graph()\n",
    "sizes, _ = gt.edge_percolation(g_cc, sorted([(e.source(), e.target()) for e in g_cc.edges()], reverse=True,\n",
    "                                            key=lambda e: (e[0].out_degree() + e[0].in_degree()) * (e[1].out_degree() + e[1].in_degree())))"
   ]
  },
  {
   "cell_type": "code",
   "execution_count": null,
   "metadata": {},
   "outputs": [],
   "source": [
    "size_avg = np.average(run_sizes, axis=0)\n",
    "size_std = np.std(run_sizes, axis=0)"
   ]
  },
  {
   "cell_type": "code",
   "execution_count": null,
   "metadata": {},
   "outputs": [],
   "source": [
    "nodes_removed = [i / 1622173 for i in range(num_edges)]\n",
    "sizes = sizes[::-1]\n",
    "sizes = [size / 1622173 for size in sizes]\n",
    "size_avg = size_avg[::-1]\n",
    "size_std = size_std[::-1]\n",
    "\n",
    "fig = plt.figure()\n",
    "ax = fig.add_subplot(1, 1, 1)\n",
    "ax.plot(nodes_removed, sizes, color='r', label='Original')\n",
    "ax.plot(nodes_removed, size_avg, color='b', label='Rewired')\n",
    "ax.fill_between(nodes_removed, size_avg + 2 * size_std, size_avg - 2 * size_std, facecolor='blue', alpha=0.5)\n",
    "ax.legend(loc=\"upper right\")\n",
    "ax.set_xlabel('Proportion of nodes removed')\n",
    "ax.set_ylabel('Normalized largest component size')\n",
    "plt.show()"
   ]
  },
  {
   "cell_type": "code",
   "execution_count": null,
   "metadata": {},
   "outputs": [],
   "source": [
    "kernel = scipy.stats.gaussian_kde(r_indices)\n",
    "kernel.integrate_box_1d(approx_area(sizes), np.inf)"
   ]
  },
  {
   "cell_type": "markdown",
   "metadata": {},
   "source": [
    "Hypothesis testing for properties"
   ]
  },
  {
   "cell_type": "markdown",
   "metadata": {},
   "source": [
    "Assortativity"
   ]
  },
  {
   "cell_type": "code",
   "execution_count": 76,
   "metadata": {},
   "outputs": [
    {
     "data": {
      "text/plain": [
       "-0.023388855151779107"
      ]
     },
     "execution_count": 76,
     "metadata": {},
     "output_type": "execute_result"
    }
   ],
   "source": [
    "g_cc = get_graph()\n",
    "gt.assortativity(g_cc, 'total')[0]"
   ]
  },
  {
   "cell_type": "code",
   "execution_count": 77,
   "metadata": {},
   "outputs": [
    {
     "name": "stdout",
     "output_type": "stream",
     "text": [
      "RUN: 0\n",
      "RUN: 10\n",
      "RUN: 20\n",
      "RUN: 30\n",
      "RUN: 40\n",
      "RUN: 50\n",
      "RUN: 60\n",
      "RUN: 70\n",
      "RUN: 80\n",
      "RUN: 90\n"
     ]
    }
   ],
   "source": [
    "assorts = []\n",
    "for run in range(100):\n",
    "    if run % 10 == 0:\n",
    "        print(f'RUN: {run}')\n",
    "    gt.random_rewire(g_cc, n_iter=2)\n",
    "    assorts.append(gt.assortativity(g_cc, 'total')[0])"
   ]
  },
  {
   "cell_type": "code",
   "execution_count": 79,
   "metadata": {},
   "outputs": [
    {
     "data": {
      "text/plain": [
       "7.000047451297368e-05"
      ]
     },
     "execution_count": 79,
     "metadata": {},
     "output_type": "execute_result"
    }
   ],
   "source": [
    "np.std(assorts)"
   ]
  },
  {
   "cell_type": "code",
   "execution_count": 78,
   "metadata": {},
   "outputs": [
    {
     "data": {
      "text/plain": [
       "-0.000330450046165295"
      ]
     },
     "execution_count": 78,
     "metadata": {},
     "output_type": "execute_result"
    }
   ],
   "source": [
    "np.average(assorts)"
   ]
  },
  {
   "cell_type": "code",
   "execution_count": 21,
   "metadata": {},
   "outputs": [
    {
     "name": "stdout",
     "output_type": "stream",
     "text": [
      "Probably not gaussian at the 15.0% level\n",
      "Probably not gaussian at the 10.0% level\n",
      "Probably gaussian at the 5.0% level\n",
      "Probably gaussian at the 2.5% level\n",
      "Probably gaussian at the 1.0% level\n"
     ]
    }
   ],
   "source": [
    "from scipy.stats import anderson\n",
    "\n",
    "stat = anderson(assorts)\n",
    "for i in range(len(stat.significance_level)):\n",
    "    sl, cv = stat.significance_level[i], stat.critical_values[i]\n",
    "    if stat.statistic < cv:\n",
    "        print(f'Probably gaussian at the {sl}% level')\n",
    "    else:\n",
    "        print(f'Probably not gaussian at the {sl}% level')"
   ]
  },
  {
   "cell_type": "code",
   "execution_count": 22,
   "metadata": {},
   "outputs": [
    {
     "data": {
      "text/plain": [
       "0.0"
      ]
     },
     "execution_count": 22,
     "metadata": {},
     "output_type": "execute_result"
    }
   ],
   "source": [
    "kernel = scipy.stats.gaussian_kde(assorts)\n",
    "kernel.integrate_box_1d(-np.inf, -0.023388855151779107)"
   ]
  },
  {
   "cell_type": "code",
   "execution_count": 18,
   "metadata": {},
   "outputs": [
    {
     "data": {
      "text/plain": [
       "-0.014572546470430329"
      ]
     },
     "execution_count": 18,
     "metadata": {},
     "output_type": "execute_result"
    }
   ],
   "source": [
    "g_cc = get_graph()\n",
    "gt.assortativity(g_cc, 'in')[0]"
   ]
  },
  {
   "cell_type": "code",
   "execution_count": 19,
   "metadata": {},
   "outputs": [
    {
     "name": "stdout",
     "output_type": "stream",
     "text": [
      "RUN: 0\n",
      "RUN: 10\n",
      "RUN: 20\n",
      "RUN: 30\n",
      "RUN: 40\n",
      "RUN: 50\n",
      "RUN: 60\n",
      "RUN: 70\n",
      "RUN: 80\n",
      "RUN: 90\n"
     ]
    }
   ],
   "source": [
    "assorts = []\n",
    "for run in range(100):\n",
    "    if run % 10 == 0:\n",
    "        print(f'RUN: {run}')\n",
    "    gt.random_rewire(g_cc, n_iter=2)\n",
    "    assorts.append(gt.assortativity(g_cc, 'in')[0])"
   ]
  },
  {
   "cell_type": "code",
   "execution_count": 20,
   "metadata": {},
   "outputs": [
    {
     "data": {
      "text/plain": [
       "-0.00021342293505621058"
      ]
     },
     "execution_count": 20,
     "metadata": {},
     "output_type": "execute_result"
    }
   ],
   "source": [
    "np.average(assorts)"
   ]
  },
  {
   "cell_type": "code",
   "execution_count": 22,
   "metadata": {},
   "outputs": [
    {
     "data": {
      "text/plain": [
       "6.750613165852737e-05"
      ]
     },
     "execution_count": 22,
     "metadata": {},
     "output_type": "execute_result"
    }
   ],
   "source": [
    "np.std(assorts)"
   ]
  },
  {
   "cell_type": "code",
   "execution_count": 21,
   "metadata": {},
   "outputs": [
    {
     "data": {
      "text/plain": [
       "0.0"
      ]
     },
     "execution_count": 21,
     "metadata": {},
     "output_type": "execute_result"
    }
   ],
   "source": [
    "kernel = scipy.stats.gaussian_kde(assorts)\n",
    "kernel.integrate_box_1d(-np.inf, -0.014572546470430329)"
   ]
  },
  {
   "cell_type": "code",
   "execution_count": 23,
   "metadata": {},
   "outputs": [
    {
     "data": {
      "text/plain": [
       "-0.02238997015462126"
      ]
     },
     "execution_count": 23,
     "metadata": {},
     "output_type": "execute_result"
    }
   ],
   "source": [
    "g_cc = get_graph()\n",
    "gt.assortativity(g_cc, 'out')[0]"
   ]
  },
  {
   "cell_type": "code",
   "execution_count": 24,
   "metadata": {},
   "outputs": [
    {
     "name": "stdout",
     "output_type": "stream",
     "text": [
      "RUN: 0\n",
      "RUN: 10\n",
      "RUN: 20\n",
      "RUN: 30\n",
      "RUN: 40\n",
      "RUN: 50\n",
      "RUN: 60\n",
      "RUN: 70\n",
      "RUN: 80\n",
      "RUN: 90\n"
     ]
    }
   ],
   "source": [
    "assorts = []\n",
    "for run in range(100):\n",
    "    if run % 10 == 0:\n",
    "        print(f'RUN: {run}')\n",
    "    gt.random_rewire(g_cc, n_iter=2)\n",
    "    assorts.append(gt.assortativity(g_cc, 'out')[0])"
   ]
  },
  {
   "cell_type": "code",
   "execution_count": 25,
   "metadata": {},
   "outputs": [
    {
     "data": {
      "text/plain": [
       "-0.00029526416094943406"
      ]
     },
     "execution_count": 25,
     "metadata": {},
     "output_type": "execute_result"
    }
   ],
   "source": [
    "np.average(assorts)"
   ]
  },
  {
   "cell_type": "code",
   "execution_count": 26,
   "metadata": {},
   "outputs": [
    {
     "data": {
      "text/plain": [
       "7.486313606321895e-05"
      ]
     },
     "execution_count": 26,
     "metadata": {},
     "output_type": "execute_result"
    }
   ],
   "source": [
    "np.std(assorts)"
   ]
  },
  {
   "cell_type": "code",
   "execution_count": 27,
   "metadata": {},
   "outputs": [
    {
     "data": {
      "text/plain": [
       "0.0"
      ]
     },
     "execution_count": 27,
     "metadata": {},
     "output_type": "execute_result"
    }
   ],
   "source": [
    "kernel = scipy.stats.gaussian_kde(assorts)\n",
    "kernel.integrate_box_1d(-np.inf, -0.02238997015462126)"
   ]
  },
  {
   "cell_type": "markdown",
   "metadata": {},
   "source": [
    "Transitivity"
   ]
  },
  {
   "cell_type": "code",
   "execution_count": 80,
   "metadata": {},
   "outputs": [
    {
     "name": "stdout",
     "output_type": "stream",
     "text": [
      "RUN: 0\n",
      "RUN: 10\n",
      "RUN: 20\n",
      "RUN: 30\n",
      "RUN: 40\n",
      "RUN: 50\n",
      "RUN: 60\n",
      "RUN: 70\n",
      "RUN: 80\n",
      "RUN: 90\n"
     ]
    }
   ],
   "source": [
    "g_cc = get_graph()\n",
    "transitivities = []\n",
    "for run in range(100):\n",
    "    if run % 10 == 0:\n",
    "        print(f'RUN: {run}')\n",
    "    gt.random_rewire(g_cc, n_iter=2)\n",
    "    transitivities.append(gt.global_clustering(g_cc)[0])"
   ]
  },
  {
   "cell_type": "code",
   "execution_count": 24,
   "metadata": {},
   "outputs": [
    {
     "data": {
      "text/plain": [
       "0.004935483726463359"
      ]
     },
     "execution_count": 24,
     "metadata": {},
     "output_type": "execute_result"
    }
   ],
   "source": [
    "np.average(transitivities)"
   ]
  },
  {
   "cell_type": "code",
   "execution_count": 81,
   "metadata": {},
   "outputs": [
    {
     "data": {
      "text/plain": [
       "2.2440497979026384e-05"
      ]
     },
     "execution_count": 81,
     "metadata": {},
     "output_type": "execute_result"
    }
   ],
   "source": [
    "np.std(transitivities)"
   ]
  },
  {
   "cell_type": "code",
   "execution_count": 60,
   "metadata": {},
   "outputs": [
    {
     "name": "stdout",
     "output_type": "stream",
     "text": [
      "Probably gaussian at the 15.0% level\n",
      "Probably gaussian at the 10.0% level\n",
      "Probably gaussian at the 5.0% level\n",
      "Probably gaussian at the 2.5% level\n",
      "Probably gaussian at the 1.0% level\n"
     ]
    }
   ],
   "source": [
    "from scipy.stats import anderson\n",
    "\n",
    "stat = anderson(transitivities)\n",
    "for i in range(len(stat.significance_level)):\n",
    "    sl, cv = stat.significance_level[i], stat.critical_values[i]\n",
    "    if stat.statistic < cv:\n",
    "        print(f'Probably gaussian at the {sl}% level')\n",
    "    else:\n",
    "        print(f'Probably not gaussian at the {sl}% level')"
   ]
  },
  {
   "cell_type": "code",
   "execution_count": 42,
   "metadata": {},
   "outputs": [
    {
     "data": {
      "text/plain": [
       "(0.0011743716520413723, 0.0004362938647781204)"
      ]
     },
     "execution_count": 42,
     "metadata": {},
     "output_type": "execute_result"
    }
   ],
   "source": [
    "gt.global_clustering(g_cc)"
   ]
  },
  {
   "cell_type": "code",
   "execution_count": 144,
   "metadata": {},
   "outputs": [],
   "source": [
    "from sklearn.neighbors import KernelDensity\n",
    "\n",
    "X = np.array(transitivities).reshape((100, 1))\n",
    "bandwidth = 1.06 * (np.std(transitivities)) * (100 ** (-1 / 5))\n",
    "kde = KernelDensity(bandwidth=bandwidth).fit(X)"
   ]
  },
  {
   "cell_type": "code",
   "execution_count": 90,
   "metadata": {},
   "outputs": [],
   "source": [
    "g_cc = get_graph()"
   ]
  },
  {
   "cell_type": "code",
   "execution_count": 130,
   "metadata": {},
   "outputs": [],
   "source": [
    "kernel = scipy.stats.gaussian_kde(transitivities)"
   ]
  },
  {
   "cell_type": "code",
   "execution_count": 129,
   "metadata": {},
   "outputs": [
    {
     "data": {
      "text/plain": [
       "0.0"
      ]
     },
     "execution_count": 129,
     "metadata": {},
     "output_type": "execute_result"
    }
   ],
   "source": [
    "kernel.integrate_box_1d(-np.inf, 0.0011743716520413723)"
   ]
  },
  {
   "cell_type": "code",
   "execution_count": 55,
   "metadata": {},
   "outputs": [],
   "source": [
    "DATASET_PATH = 'rabobank_data_agg.csv'\n",
    "graph_df = pd.read_csv(DATASET_PATH)"
   ]
  },
  {
   "cell_type": "code",
   "execution_count": 58,
   "metadata": {},
   "outputs": [
    {
     "data": {
      "text/plain": [
       "SpearmanrResult(correlation=0.7299197411159788, pvalue=0.0)"
      ]
     },
     "execution_count": 58,
     "metadata": {},
     "output_type": "execute_result"
    }
   ],
   "source": [
    "scipy.stats.spearmanr(graph_df['count'], graph_df['total'])"
   ]
  },
  {
   "cell_type": "code",
   "execution_count": 23,
   "metadata": {},
   "outputs": [
    {
     "data": {
      "text/plain": [
       "0.0035516999891226277"
      ]
     },
     "execution_count": 23,
     "metadata": {},
     "output_type": "execute_result"
    }
   ],
   "source": [
    "val, vecs = eigs(gt.hashimoto(g_cc, compact=True), k=1, which='LR')\n",
    "1 / val[0].real"
   ]
  },
  {
   "cell_type": "code",
   "execution_count": null,
   "metadata": {},
   "outputs": [],
   "source": [
    "degrees = G_cc.degree()\n",
    "degrees = sp.diags([degrees[n] for n in G_cc.nodes()])\n",
    "adj = nx.adjacency_matrix(G_cc)\n",
    "I = sp.eye(G_cc.order())\n",
    "ps_hashimoto = sp.bmat([[adj, degrees - I], [-I, None]])"
   ]
  },
  {
   "cell_type": "code",
   "execution_count": 20,
   "metadata": {},
   "outputs": [],
   "source": [
    "RUNS = 100\n",
    "bounds = []\n",
    "\n",
    "for run in range(RUNS):\n",
    "    gt.random_rewire(g_cc, n_iter=2)\n",
    "    degrees = sp.diags([v.out_degree() + v.in_degree() for v in g_cc.vertices()])\n",
    "    adj = gt.adjacency(g_cc)\n",
    "    I = sp.eye(len(list(g_cc.vertices())))\n",
    "    ps_hashimoto = sp.bmat([[adj, degrees - I], [-I, None]])\n",
    "    val, vecs = eigs(ps_hashimoto, k=1, which='LR')\n",
    "    bounds.append(1 / val[0].real)"
   ]
  },
  {
   "cell_type": "code",
   "execution_count": 19,
   "metadata": {},
   "outputs": [
    {
     "data": {
      "text/plain": [
       "0.01046916993697828"
      ]
     },
     "execution_count": 19,
     "metadata": {},
     "output_type": "execute_result"
    }
   ],
   "source": [
    "val, vecs = eigs(ps_hashimoto, k=1, which='LR')\n",
    "1 / val[0].real"
   ]
  },
  {
   "cell_type": "code",
   "execution_count": 21,
   "metadata": {},
   "outputs": [
    {
     "data": {
      "text/plain": [
       "0.01266432063664994"
      ]
     },
     "execution_count": 21,
     "metadata": {},
     "output_type": "execute_result"
    }
   ],
   "source": [
    "np.average(bounds)"
   ]
  },
  {
   "cell_type": "code",
   "execution_count": 22,
   "metadata": {},
   "outputs": [
    {
     "data": {
      "text/plain": [
       "2.9215833961578398e-05"
      ]
     },
     "execution_count": 22,
     "metadata": {},
     "output_type": "execute_result"
    }
   ],
   "source": [
    "np.std(bounds)"
   ]
  }
 ],
 "metadata": {
  "kernelspec": {
   "display_name": "Python 3 (ipykernel)",
   "language": "python",
   "name": "python3"
  },
  "language_info": {
   "codemirror_mode": {
    "name": "ipython",
    "version": 3
   },
   "file_extension": ".py",
   "mimetype": "text/x-python",
   "name": "python",
   "nbconvert_exporter": "python",
   "pygments_lexer": "ipython3",
   "version": "3.9.7"
  }
 },
 "nbformat": 4,
 "nbformat_minor": 4
}
